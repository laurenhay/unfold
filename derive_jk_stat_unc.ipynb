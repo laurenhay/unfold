{
 "cells": [
  {
   "cell_type": "code",
   "execution_count": 1,
   "id": "38dc8187-31d5-4e42-be2e-90496c15e9fd",
   "metadata": {
    "tags": []
   },
   "outputs": [
    {
     "name": "stdout",
     "output_type": "stream",
     "text": [
      "Welcome to JupyROOT 6.26/04\n"
     ]
    }
   ],
   "source": [
    "import ROOT\n",
    "import uproot\n",
    "import numpy as np\n",
    "import array as array\n",
    "import math\n",
    "import matplotlib.pyplot as plt\n",
    "\n",
    "#import statistics as st\n",
    "ROOT.gStyle.SetOptStat(000000)"
   ]
  },
  {
   "cell_type": "code",
   "execution_count": 2,
   "id": "e1c136a6-00a5-45af-9fe2-daec62b56bff",
   "metadata": {
    "tags": []
   },
   "outputs": [],
   "source": [
    "import subprocess\n",
    "import sys\n",
    "from unfold_utils import binning\n",
    "def install_package(package_name):\n",
    "    # Install the package using subprocess to call pip\n",
    "    subprocess.check_call([sys.executable, \"-m\", \"pip\", \"install\", package_name])\n",
    "\n",
    "package_name = \"pickle5\"  # Replace with the package you want to install\n",
    "\n",
    "try:\n",
    "    import requests  # Replace with the module name of the package\n",
    "except ImportError:\n",
    "    print(f\"{package_name} not found. Installing...\")\n",
    "    install_package(package_name)\n",
    "    import requests  # Import again after installation\n",
    "\n",
    "def import_packages():\n",
    "    try:\n",
    "        import mplhep  # Replace with the module name of the package\n",
    "    except ImportError:\n",
    "        print(f\"{'mplhep'} not found. Installing...\")\n",
    "        install_package(\"mplhep\")\n",
    "        import mplhep  # Import again after installation\n",
    "    try:\n",
    "        import hist  # Replace with the module name of the package\n",
    "    except ImportError:\n",
    "        print(f\"{'hist'} not found. Installing...\")\n",
    "        install_package(\"hist\")\n",
    "        import hist  # Import again after installation\n",
    "    try:\n",
    "        import pickle  # Replace with the module name of the package\n",
    "    except ImportError:\n",
    "        print(f\"{'pickle5'} not found. Installing...\")\n",
    "        install_package(\"pickle5\")\n",
    "        import pickle  # Import again after installation\n",
    "        \n",
    "import_packages()"
   ]
  },
  {
   "cell_type": "code",
   "execution_count": 3,
   "id": "ab03a91d-f0af-48e9-90da-d2d41a0e0b75",
   "metadata": {
    "tags": []
   },
   "outputs": [],
   "source": [
    "mbinsDet = [   0.,    5.,   10.,   15.,   20.,   30.,   40.,   50.,   60.,\n",
    "     70.,   80.,   90.,  100.,  125.,  150.,  175.,  200.,  250.,\n",
    "    300.,  800., 1300.]\n",
    "\n",
    "mbinsGen = [   0.,   10.,   20.,   40.,   60.,   80.,  100.,  150.,  200.,\n",
    "    300., 1300.]\n",
    "\n",
    "\n",
    "ptbinsGen = [200, 290, 400, 480, 570, 680,  13000]\n",
    "ptbinsDet = ptbinsGen\n",
    "\n",
    "nmbinsGen  = len(mbinsGen) -1\n",
    "nmbinsDet  = len(mbinsDet) -1\n",
    "nptbinsGen = len(ptbinsGen) -1\n",
    "nptbinsDet = len(ptbinsDet) -1"
   ]
  },
  {
   "cell_type": "code",
   "execution_count": 4,
   "id": "7b7241a3-d306-4068-9b7d-669f7ec5dd45",
   "metadata": {
    "tags": []
   },
   "outputs": [
    {
     "ename": "TypeError",
     "evalue": "none of the 3 overloaded methods succeeded. Full details:\n  bool TUnfoldBinning::AddAxis(const TAxis& axis, bool includeUnderflow, bool includeOverflow) =>\n    TypeError: takes at most 3 arguments (5 given)\n  bool TUnfoldBinning::AddAxis(const char* name, int nBins, double xMin, double xMax, bool hasUnderflow, bool hasOverflow) =>\n    TypeError: takes at least 6 arguments (5 given)\n  bool TUnfoldBinning::AddAxis(const char* name, int nBins, const double* binBorders, bool hasUnderflow, bool hasOverflow) =>\n    TypeError: could not convert argument 3 (could not convert argument to buffer or nullptr)",
     "output_type": "error",
     "traceback": [
      "\u001b[0;31m---------------------------------------------------------------------------\u001b[0m",
      "\u001b[0;31mTypeError\u001b[0m                                 Traceback (most recent call last)",
      "Cell \u001b[0;32mIn[4], line 4\u001b[0m\n\u001b[1;32m      2\u001b[0m \u001b[38;5;66;03m### Need coarser binning for signal\u001b[39;00m\n\u001b[1;32m      3\u001b[0m signalBinning \u001b[38;5;241m=\u001b[39m generatorBinning\u001b[38;5;241m.\u001b[39mAddBinning(\u001b[38;5;124m\"\u001b[39m\u001b[38;5;124msignal\u001b[39m\u001b[38;5;124m\"\u001b[39m)    \n\u001b[0;32m----> 4\u001b[0m \u001b[43msignalBinning\u001b[49m\u001b[38;5;241;43m.\u001b[39;49m\u001b[43mAddAxis\u001b[49m\u001b[43m(\u001b[49m\u001b[38;5;124;43m\"\u001b[39;49m\u001b[38;5;124;43mmassgen\u001b[39;49m\u001b[38;5;124;43m\"\u001b[39;49m\u001b[43m,\u001b[49m\u001b[43mnmbinsGen\u001b[49m\u001b[43m,\u001b[49m\u001b[43mmbinsGen\u001b[49m\u001b[43m,\u001b[49m\n\u001b[1;32m      5\u001b[0m \u001b[43m                        \u001b[49m\u001b[38;5;28;43;01mFalse\u001b[39;49;00m\u001b[43m,\u001b[49m\u001b[43m \u001b[49m\u001b[38;5;66;43;03m# needed for fakes\u001b[39;49;00m\n\u001b[1;32m      6\u001b[0m \u001b[43m                        \u001b[49m\u001b[38;5;28;43;01mFalse\u001b[39;49;00m\u001b[43m \u001b[49m\u001b[38;5;66;43;03m# overflow bin\u001b[39;49;00m\n\u001b[1;32m      7\u001b[0m \u001b[43m                        \u001b[49m\u001b[43m)\u001b[49m\n\u001b[1;32m      8\u001b[0m signalBinning\u001b[38;5;241m.\u001b[39mAddAxis(\u001b[38;5;124m\"\u001b[39m\u001b[38;5;124mptgen\u001b[39m\u001b[38;5;124m\"\u001b[39m,nptbinsGen,ptbinsGen,\n\u001b[1;32m      9\u001b[0m                         \u001b[38;5;28;01mFalse\u001b[39;00m, \u001b[38;5;66;03m# needed for fakes\u001b[39;00m\n\u001b[1;32m     10\u001b[0m                         \u001b[38;5;28;01mFalse\u001b[39;00m \u001b[38;5;66;03m# overflow bin\u001b[39;00m\n\u001b[1;32m     11\u001b[0m                         )\n\u001b[1;32m     13\u001b[0m \u001b[38;5;66;03m# X axis : generator binning is Signal : mgen * ptgen and Background : mrec * ptrec\u001b[39;00m\n",
      "\u001b[0;31mTypeError\u001b[0m: none of the 3 overloaded methods succeeded. Full details:\n  bool TUnfoldBinning::AddAxis(const TAxis& axis, bool includeUnderflow, bool includeOverflow) =>\n    TypeError: takes at most 3 arguments (5 given)\n  bool TUnfoldBinning::AddAxis(const char* name, int nBins, double xMin, double xMax, bool hasUnderflow, bool hasOverflow) =>\n    TypeError: takes at least 6 arguments (5 given)\n  bool TUnfoldBinning::AddAxis(const char* name, int nBins, const double* binBorders, bool hasUnderflow, bool hasOverflow) =>\n    TypeError: could not convert argument 3 (could not convert argument to buffer or nullptr)"
     ]
    }
   ],
   "source": [
    "generatorBinning = ROOT.TUnfoldBinning(\"generator\")\n",
    "### Need coarser binning for signal\n",
    "signalBinning = generatorBinning.AddBinning(\"signal\")    \n",
    "signalBinning.AddAxis(\"massgen\",nmbinsGen,mbinsGen,\n",
    "                        False, # needed for fakes\n",
    "                        False # overflow bin\n",
    "                        )\n",
    "signalBinning.AddAxis(\"ptgen\",nptbinsGen,ptbinsGen,\n",
    "                        False, # needed for fakes\n",
    "                        False # overflow bin\n",
    "                        )\n",
    "\n",
    "# X axis : generator binning is Signal : mgen * ptgen and Background : mrec * ptrec\n",
    "\n",
    "xaxis =  array.array('d',[a for a in range(nmbinsGen *nptbinsGen + 1 )])\n",
    "nx = len(xaxis)-1\n",
    "\n",
    "print (xaxis)\n",
    "print(\"There are {} (signal) generator level bins in the simple scheme\".format(nx))\n",
    "print(\"---------------------------------------------------------------\")\n",
    "\n",
    "print(\"signalBinning\")\n",
    "for i in range(len(signalBinning.GetDistributionBinning(0))):\n",
    "    print (signalBinning.GetDistributionBinning(0)[i])\n",
    "\n",
    "#print \"detectorBinning\"\n",
    "#for i in xrange(len(backgroundBinning.GetDistributionBinning(0))):\n",
    "#    print backgroundBinning.GetDistributionBinning(0)[i]\n",
    "    \n",
    "#print \"Below counts include overflow and underflow bins\"    \n",
    "#print \"There are {} signal {} background bins in the generator scheme\".format(signalBinning.GetTH1xNumberOfBins() , backgroundBinning.GetDistributionNumberOfBins())\n",
    "genBin = generatorBinning"
   ]
  },
  {
   "cell_type": "code",
   "execution_count": null,
   "id": "0b5d292b-f4eb-4200-8192-5d0b4631543f",
   "metadata": {
    "tags": []
   },
   "outputs": [],
   "source": [
    "detectorBinning = ROOT.TUnfoldBinning(\"detector\") \n",
    "detectorDistribution=detectorBinning.AddBinning(\"detectordistribution\")\n",
    "detectorDistribution.AddAxis(\"mass\",nmbinsDet,mbinsDet,\n",
    "                        False, # no underflow bin (not reconstructed)\n",
    "                        False # overflow bin\n",
    "                        )\n",
    "detectorDistribution.AddAxis(\"pt\",nptbinsDet,ptbinsDet,\n",
    "                        False, # no underflow bin (not reconstructed)\n",
    "                        False # overflow bin\n",
    "                        )\n",
    "\n",
    "yaxis =  array.array('d',[a for a in range(nmbinsDet *nptbinsDet+1 )])\n",
    "ny = len(yaxis)-1\n",
    "\n",
    "print (yaxis)\n",
    "print (\"There are {}  detector level bins in the simple scheme\".format(ny))\n",
    "print (\"detectorBinning\")\n",
    "for i in range(len(detectorDistribution.GetDistributionBinning(0))):\n",
    "    print (detectorDistribution.GetDistributionBinning(0)[i])\n",
    "    \n",
    "print (\"Below counts include overflow and underflow bins\")\n",
    "print (\"There are {} bins in the detector scheme\".format(detectorDistribution.GetTH1xNumberOfBins()))#GetDistributionNumberOfBins())\n",
    "detBin  = detectorBinning"
   ]
  },
  {
   "cell_type": "code",
   "execution_count": null,
   "id": "7a659f8b-09d7-44ee-bbb1-7f744c5b0680",
   "metadata": {
    "tags": []
   },
   "outputs": [],
   "source": [
    "import pickle as pkl\n",
    "with open(\"qjetmass_zjets_gen__all_syst_v2.pkl\", \"rb\") as f:\n",
    "    output = pkl.load( f )\n",
    "with open(\"qjetmass_zjets_reco_v2.pkl\", \"rb\") as f:\n",
    "    output_data = pkl.load( f )\n",
    "    \n",
    "    \n",
    "with open(\"pkl_files/jackknife_output0to4_real.pkl\", \"rb\") as f:\n",
    "    output0to4 = pkl.load( f )\n",
    "    \n",
    "with open(\"pkl_files/jackknife_output_5to9.pkl\", \"rb\") as f:\n",
    "    output5to9 = pkl.load( f )"
   ]
  },
  {
   "cell_type": "code",
   "execution_count": null,
   "id": "05c8619d-0bfb-4214-9478-52fa3777e70c",
   "metadata": {
    "tags": []
   },
   "outputs": [],
   "source": [
    "with open(\"pt170-13000.pkl\", 'rb') as f:\n",
    "    output0to9 = pkl.load(f)"
   ]
  },
  {
   "cell_type": "code",
   "execution_count": null,
   "id": "232369a1-a9bc-464a-8c47-e1dbc6b8c853",
   "metadata": {
    "tags": []
   },
   "outputs": [],
   "source": [
    "ptreco_center = output['response_matrix_g'].axes[1].centers\n",
    "ptreco_width = output['response_matrix_g'].axes[1].widths\n",
    "\n",
    "ptgen_center = output['response_matrix_g'].axes[3].centers\n",
    "ptgen_width = output['response_matrix_g'].axes[3].widths\n",
    "mreco_center = output['response_matrix_g'].axes[2].centers\n",
    "mreco_edge = output['response_matrix_g'].axes[2].edges\n",
    "mgen_center = output['response_matrix_g'].axes[4].centers\n",
    "\n",
    "mreco_width = output['response_matrix_g'].axes[2].widths\n",
    "mgen_width = output['response_matrix_g'].axes[4].widths\n"
   ]
  },
  {
   "cell_type": "code",
   "execution_count": null,
   "id": "94d7da72-381b-413d-8663-5bd9d9a654bd",
   "metadata": {
    "tags": []
   },
   "outputs": [],
   "source": [
    "M = ROOT.TUnfoldBinning.CreateHistogramOfMigrations(generatorBinning,detectorBinning,\"M\")\n",
    "\n",
    "\n",
    "h = detectorBinning.CreateHistogram(\"h\")\n",
    "\n",
    "hup = detectorBinning.CreateHistogram(\"hup\")\n",
    "hdn = detectorBinning.CreateHistogram(\"hdn\")\n",
    "\n",
    "\n",
    "\n",
    "htrue = generatorBinning.CreateHistogram(\"htrue\")\n",
    "htruef = detectorBinning.CreateHistogram(\"htruef\")"
   ]
  },
  {
   "cell_type": "code",
   "execution_count": null,
   "id": "d6cb7eab-25e5-43af-82fd-d8b73bc4bd5f",
   "metadata": {
    "tags": []
   },
   "outputs": [],
   "source": [
    "output0to4['jackknife_response_u'][{\"jk\": 0}]"
   ]
  },
  {
   "cell_type": "code",
   "execution_count": null,
   "id": "0a556fbd-7b21-44dc-bdb2-417bf376258e",
   "metadata": {
    "tags": []
   },
   "outputs": [],
   "source": [
    "# M_np = output['tunfold_migration_u'][{'systematic':'nominal'}].project(\"bin_gen\",\"bin_reco\").values(flow = True)\n",
    "# M_np_error = output['tunfold_migration_u'][{'systematic':'nominal'}].project(\"bin_gen\",\"bin_reco\").variances(flow = True)\n",
    "\n",
    "# h_np = output_data['tunfold_reco_u'][{'systematic':'nominal'}].project(\"bin_reco\").values(flow = True)\n",
    "# h_np_error = output_data['tunfold_reco_u'][{'systematic':'nominal'}].project(\"bin_reco\").variances(flow = True)\n",
    "\n",
    "# htrue_np = output['tunfold_migration_u'][{'systematic':'nominal'}].project(\"bin_gen\").values(flow = True)\n",
    "# htrue_np_error = output['tunfold_migration_u'][{'systematic':'nominal'}].project(\"bin_gen\").variances(flow = True)\n",
    "\n",
    "# jk_dic = {}\n",
    "\n",
    "# for i in range(10):\n",
    "#     if (i<5):\n",
    "\n",
    "#         Msyst = output0to4['jackknife_response_u'][{\"jk\": i}].project(\"bin_gen\",\"bin_reco\").view(flow=True).value\n",
    "#         jk_dic.update({str(i):Msyst})\n",
    "\n",
    "        \n",
    "        \n",
    "# M_np = output['tunfold_migration_g'][{'systematic':'nominal'}].project(\"bin_gen\",\"bin_reco\").values(flow = True)\n",
    "# M_np_error = output['tunfold_migration_g'][{'systematic':'nominal'}].project(\"bin_gen\",\"bin_reco\").variances(flow = True)\n",
    "\n",
    "# h_np = output_data['tunfold_reco_g'][{'systematic':'nominal'}].project(\"bin_reco\").values(flow = True)\n",
    "# h_np_error = output_data['tunfold_reco_g'][{'systematic':'nominal'}].project(\"bin_reco\").variances(flow = True)\n",
    "\n",
    "# htrue_np = output['tunfold_migration_g'][{'systematic':'nominal'}].project(\"bin_gen\").values(flow = True)\n",
    "# htrue_np_error = output['tunfold_migration_g'][{'systematic':'nominal'}].project(\"bin_gen\").variances(flow = True)\n",
    "\n",
    "# jk_dic = {}\n",
    "\n",
    "# for i in range(10):\n",
    "#     if (i<5):\n",
    "\n",
    "#         Msyst = output0to4['jackknife_response_g'][{\"jk\": i}].project(\"bin_gen\",\"bin_reco\").view(flow=True).value\n",
    "#         jk_dic.update({str(i):Msyst})\n",
    "#     else:\n",
    "#         Msyst = output5to9['jackknife_response_g'][{\"jk\": i-5}].project(\"bin_gen\",\"bin_reco\").view(flow=True).value\n",
    "#         jk_dic.update({str(i):Msyst})"
   ]
  },
  {
   "cell_type": "code",
   "execution_count": null,
   "id": "4adaac22-4afe-48c9-a646-73bb5df11ef4",
   "metadata": {
    "tags": []
   },
   "outputs": [],
   "source": [
    "closure = True\n",
    "groomed = False"
   ]
  },
  {
   "cell_type": "code",
   "execution_count": null,
   "id": "4e764703-922b-4980-8ef7-cbf14f9ee102",
   "metadata": {},
   "outputs": [],
   "source": []
  },
  {
   "cell_type": "code",
   "execution_count": null,
   "id": "f00e94e4-505f-4bb6-a7b2-16b02ae7fbdf",
   "metadata": {
    "tags": []
   },
   "outputs": [],
   "source": [
    "if groomed == False:\n",
    "    jk_dic = {}\n",
    "    for i in range(10):\n",
    "        print(i)\n",
    "        Msyst = output0to9['jk_response_matrix_u'][{\"jk\": i}].project(\"mgen\",\"ptgen\",\"mreco\",\"ptreco\").view(flow=True).value\n",
    "        jk_dic.update({str(i):Msyst})\n",
    "        \n",
    "    matrix_combined = np.stack(list(jk_dic.values()), axis = 0)\n",
    "    rms = np.std(matrix_combined, axis = 0)\n",
    "    rms = np.sqrt(10/9)*rms\n",
    "    \n",
    "    M_np = output['response_matrix_u'][{\"systematic\": \"nominal\"}].project(\"mgen\",\"ptgen\",\"mreco\",\"ptreco\").view(flow=True).value\n",
    "    M_np_error = rms\n",
    "\n",
    "\n",
    "\n",
    "    n_bin_det = M_np.shape[2]*M_np.shape[3]\n",
    "    n_bin_gen =  M_np.shape[0]*M_np.shape[1]\n",
    "\n",
    "\n",
    "    if closure:\n",
    "        h_np = output['ptjet_mjet_u_reco'][{\"systematic\": \"nominal\"}].project(\"mreco\",\"ptreco\").view(flow=True).value\n",
    "        h_np_error = output['ptjet_mjet_u_reco'][{\"systematic\": \"nominal\"}].project(\"mreco\",\"ptreco\").view(flow=True).variance\n",
    "        h_np_error = np.sqrt(h_np_error)\n",
    "    else:\n",
    "        h_np = output['ptjet_mjet_u_reco'][{\"systematic\": \"nominal\"}].project(\"mreco\",\"ptreco\").view(flow=True).value\n",
    "        h_np_error = output['ptjet_mjet_u_reco'][{\"systematic\": \"nominal\"}].project(\"mreco\",\"ptreco\").view(flow=True).variance\n",
    "        h_np_error = np.sqrt(h_np_error)\n",
    "\n",
    "    # htrue_np = np.sum(output['response_matrix_g'][{\"systematic\": \"nominal\"}].project(\"mgen\",\"ptgen\",\"mreco\",\"ptreco\").view(flow=True).value, (2,3))\n",
    "    # htrue_np_error = np.sum(output['response_matrix_g'][{\"systematic\": \"nominal\"}].project(\"mgen\",\"ptgen\",\"mreco\",\"ptreco\").view(flow=True).variance, (2,3))\n",
    "    # htrue_np_error = np.sqrt(htrue_np_error)\n",
    "\n",
    "    htrue_np =output['response_matrix_u'][{\"systematic\": \"nominal\"}].project(\"mgen\",\"ptgen\").view(flow=True).value\n",
    "    htrue_np_error = output['response_matrix_u'][{\"systematic\": \"nominal\"}].project(\"mgen\",\"ptgen\").view(flow=True).variance\n",
    "    htrue_np_error = np.sqrt(htrue_np_error)\n",
    "\n",
    "    \n",
    "\n",
    "    \n"
   ]
  },
  {
   "cell_type": "code",
   "execution_count": null,
   "id": "f8fc6b24-5647-45d6-ab55-c97164b6e4e2",
   "metadata": {
    "tags": []
   },
   "outputs": [],
   "source": [
    "if groomed:\n",
    "    \n",
    "    \n",
    "    jk_dic = {}\n",
    "    for i in range(10):\n",
    "        print(i)\n",
    "        Msyst = output0to9['jk_response_matrix_g'][{\"jk\": i}].project(\"mgen\",\"ptgen\",\"mreco\",\"ptreco\").view(flow=True).value\n",
    "        jk_dic.update({str(i):Msyst})\n",
    "        \n",
    "    matrix_combined = np.stack(list(jk_dic.values()), axis = 0)\n",
    "    rms = np.std(matrix_combined, axis = 0)\n",
    "    rms = np.sqrt(10/9)*rms\n",
    "    \n",
    "    M_np = output['response_matrix_g'][{\"systematic\": \"nominal\"}].project(\"mgen\",\"ptgen\",\"mreco\",\"ptreco\").view(flow=True).value\n",
    "    M_np_error = rms\n",
    "    \n",
    "\n",
    "\n",
    "\n",
    "    n_bin_det = M_np.shape[2]*M_np.shape[3]\n",
    "    n_bin_gen =  M_np.shape[0]*M_np.shape[1]\n",
    "\n",
    "\n",
    "    if closure:\n",
    "        h_np = output['ptjet_mjet_g_reco'][{\"systematic\": \"nominal\"}].project(\"mreco\",\"ptreco\").view(flow=True).value\n",
    "        h_np_error = output['ptjet_mjet_g_reco'][{\"systematic\": \"nominal\"}].project(\"mreco\",\"ptreco\").view(flow=True).variance\n",
    "        h_np_error = np.sqrt(h_np_error)\n",
    "    else:\n",
    "        h_np = output['ptjet_mjet_g_reco'][{\"systematic\": \"nominal\"}].project(\"mreco\",\"ptreco\").view(flow=True).value\n",
    "        h_np_error = output['ptjet_mjet_g_reco'][{\"systematic\": \"nominal\"}].project(\"mreco\",\"ptreco\").view(flow=True).variance\n",
    "        h_np_error = np.sqrt(h_np_error)\n",
    "\n",
    "    # htrue_np = np.sum(output['response_matrix_g'][{\"systematic\": \"nominal\"}].project(\"mgen\",\"ptgen\",\"mreco\",\"ptreco\").view(flow=True).value, (2,3))\n",
    "    # htrue_np_error = np.sum(output['response_matrix_g'][{\"systematic\": \"nominal\"}].project(\"mgen\",\"ptgen\",\"mreco\",\"ptreco\").view(flow=True).variance, (2,3))\n",
    "    # htrue_np_error = np.sqrt(htrue_np_error)\n",
    "\n",
    "    htrue_np =output['response_matrix_g'][{\"systematic\": \"nominal\"}].project(\"mgen\",\"ptgen\").view(flow=True).value\n",
    "    htrue_np_error = output['response_matrix_g'][{\"systematic\": \"nominal\"}].project(\"mgen\",\"ptgen\").view(flow=True).variance\n",
    "    htrue_np_error = np.sqrt(htrue_np_error)\n",
    "\n"
   ]
  },
  {
   "cell_type": "code",
   "execution_count": null,
   "id": "dfc79468-0479-4d69-be8e-bffa86dc80fc",
   "metadata": {
    "tags": []
   },
   "outputs": [],
   "source": [
    "output['response_matrix_u'][{\"systematic\": \"nominal\"}].project(\"mgen\",\"ptgen\",\"mreco\",\"ptreco\")"
   ]
  },
  {
   "cell_type": "code",
   "execution_count": null,
   "id": "729dabc9-d461-4b01-a599-ed4e9d55622b",
   "metadata": {
    "tags": []
   },
   "outputs": [],
   "source": [
    "jk_dic['0'].shape"
   ]
  },
  {
   "cell_type": "code",
   "execution_count": null,
   "id": "cd0b4b52-f66c-4469-9c1d-c81f6287eef0",
   "metadata": {
    "tags": []
   },
   "outputs": [],
   "source": [
    "np.sum(output0to4['jackknife_response_u'][{\"jk\": 0}].project(\"bin_gen\",\"bin_reco\").values())"
   ]
  },
  {
   "cell_type": "code",
   "execution_count": null,
   "id": "551cbb3d-a007-46ac-a18b-36af8bcfe413",
   "metadata": {
    "tags": []
   },
   "outputs": [],
   "source": [
    "np.sum(h_np)"
   ]
  },
  {
   "cell_type": "code",
   "execution_count": null,
   "id": "afbbf9d5-8536-4e3f-b64a-932d6e0efc31",
   "metadata": {
    "tags": []
   },
   "outputs": [],
   "source": [
    "166689*(0.9)"
   ]
  },
  {
   "cell_type": "code",
   "execution_count": null,
   "id": "9b2e9a41-e1eb-4665-89df-271dfb3d0632",
   "metadata": {
    "tags": []
   },
   "outputs": [],
   "source": [
    "M.GetNbinsX()"
   ]
  },
  {
   "cell_type": "code",
   "execution_count": null,
   "id": "a2832fb3-b199-470f-bbf1-e38452694daa",
   "metadata": {
    "tags": []
   },
   "outputs": [],
   "source": [
    "list_reco = []\n",
    "list_gen = []\n",
    "integral = 0\n",
    "for i in range(M_np.shape[0]-2): #mgen\n",
    "    for j in range(M_np.shape[1]-1): #ptgen\n",
    "        for k in range(M_np.shape[2]-2): #mreco\n",
    "            for l in range(M_np.shape[3]-1): #ptreco\n",
    "                \n",
    "                mgen = mgen_center[i]\n",
    "                if j == 0:\n",
    "                    ptgen = 1\n",
    "                else:\n",
    "                    ptgen = ptgen_center[j-1]\n",
    "                mreco = mreco_center[k]\n",
    "                if l == 0:\n",
    "                    ptreco = 1\n",
    "                else:\n",
    "                    ptreco = ptreco_center[l-1]\n",
    "    \n",
    "                # glob_reco = detectorDistribution.GetGlobalBinNumber(mreco_center[k], ptreco_center[l])\n",
    "                # glob_gen = signalBinning.GetGlobalBinNumber(mgen_center[i], ptgen_center[j])\n",
    "                glob_reco = detectorDistribution.GetGlobalBinNumber(mreco, ptreco)\n",
    "                glob_gen = signalBinning.GetGlobalBinNumber(mgen, ptgen)\n",
    "                #rint(glob_gen, glob_reco)\n",
    "                # list_reco.append(glob_reco)\n",
    "                # list_gen.append(glob_gen)\n",
    "                integral = integral + M_np[i+1][j][k+1][l]\n",
    "                M.SetBinContent(glob_gen, glob_reco, M_np[i+1][j][k+1][l])\n",
    "                M.SetBinError( glob_gen, glob_reco, M_np_error[i+1][j][k+1][l])\n",
    "print(integral)                \n",
    "jk_dic_root = {}                      \n",
    "for i_jk in range(10):  \n",
    "    jk_dic_root.update({str(i_jk): ROOT.TUnfoldBinning.CreateHistogramOfMigrations(generatorBinning,detectorBinning,str(i_jk))})\n",
    "    for i in range(M_np.shape[0]-2): #mgen\n",
    "        for j in range(M_np.shape[1]-1): #ptgen\n",
    "            for k in range(M_np.shape[2]-2): #mreco\n",
    "                for l in range(M_np.shape[3]-1): #ptreco\n",
    "                    \n",
    "                    mgen = mgen_center[i]\n",
    "                    if j == 0:\n",
    "                        ptgen = 1\n",
    "                    else:\n",
    "                        ptgen = ptgen_center[j-1]\n",
    "                    mreco = mreco_center[k]\n",
    "                    if l == 0:\n",
    "                        ptreco = 1\n",
    "                    else:\n",
    "                        ptreco = ptreco_center[l-1]\n",
    "\n",
    "                    glob_reco = detectorDistribution.GetGlobalBinNumber(mreco, ptreco)\n",
    "                    glob_gen = signalBinning.GetGlobalBinNumber(mgen, ptgen)\n",
    "                    jk_dic_root[str(i_jk)].SetBinContent(glob_gen, glob_reco, jk_dic[str(i_jk)][i+1,j,k+1,l])\n",
    "                    #jk_dic_root[str(i_jk)].SetBinError(glob_gen, glob_reco, resp_syst_dic_np_error[sys][i+1,j,k+1,l])\n",
    "                \n",
    "for j in range(M_np.shape[1]-1): #ptgen                \n",
    "    for i in range(M_np.shape[0]-2): #mgen  \n",
    "\n",
    "        mgen = mgen_center[i]\n",
    "        if j == 0:\n",
    "            ptgen = 1\n",
    "        else:\n",
    "            ptgen = ptgen_center[j-1]\n",
    "        \n",
    "        glob_gen = signalBinning.GetGlobalBinNumber(mgen, ptgen)\n",
    "        \n",
    "        htrue.SetBinContent(glob_gen, htrue_np[i+1][j])\n",
    "        htrue.SetBinError(glob_gen, htrue_np_error[i+1][j])\n",
    "        \n",
    "for l in range(M_np.shape[3]-1): #ptreco           \n",
    "    for k in range(M_np.shape[2]-2): #mreco    \n",
    "        mreco = mreco_center[k]\n",
    "        if l == 0:\n",
    "            ptreco = 1\n",
    "        else:\n",
    "            ptreco = ptreco_center[l-1]\n",
    "        glob_reco = detectorDistribution.GetGlobalBinNumber(mreco, ptreco)\n",
    "        #print(glob_reco)\n",
    "        h.SetBinContent(glob_reco, h_np[k+1][l])\n",
    "        h.SetBinError(glob_reco, h_np_error[k+1][l])"
   ]
  },
  {
   "cell_type": "code",
   "execution_count": null,
   "id": "9edbfcde-1253-4c09-9f10-7bbaeb65bb0c",
   "metadata": {},
   "outputs": [],
   "source": []
  },
  {
   "cell_type": "code",
   "execution_count": null,
   "id": "bd7f2da0-7ab1-48c0-b23b-6abb44a4e9e2",
   "metadata": {
    "tags": []
   },
   "outputs": [],
   "source": [
    "ptgen_center_uf = np.insert(ptgen_center, 0, -5)\n",
    "mgen_center_uf = np.insert(ptgen_center, 0, -5)\n",
    "ptreco_center_uf = np.insert(ptreco_center, 0, -5)\n",
    "mgen_width_uf = np.insert(mgen_width, 0, 1)\n",
    "mgen_width_f = np.insert(mgen_width_uf, -1, 10000)\n",
    "mreco_width_uf = np.insert(mreco_width, 0, 1)\n",
    "\n",
    "\n",
    "def NormM(M, mode = 'gen'):\n",
    "    if mode == 'gen':\n",
    "        print(\"Normalising in GEN axis\")\n",
    "        M_norm = M.Clone(\"M_norm\")\n",
    "        for pt in ptgen_center_uf:\n",
    "            start_gen = signalBinning.GetGlobalBinNumber(-1,pt)\n",
    "            end_gen = signalBinning.GetGlobalBinNumber(mgen_center_uf[-1]+10000,pt)\n",
    "            # print(start_gen)\n",
    "            # print(end_gen)\n",
    "            # print(end_gen-start_gen)\n",
    "            binsum = M.Integral(start_gen, end_gen, 0, M.GetNbinsY()+1)\n",
    "            print(binsum)\n",
    "            im = 0\n",
    "            for ix in range(start_gen, end_gen+1):\n",
    "                for iy in range(0, M.GetNbinsY()+1):\n",
    "                    if binsum>0:\n",
    "                        M_norm.SetBinContent(ix, iy, M.GetBinContent(ix, iy)/(binsum*mgen_width_f[im]) )\n",
    "                im+=1\n",
    "        return M_norm\n",
    "    if mode == 'reco':\n",
    "        print(\"Normalising in RECO axis\")\n",
    "        M_norm = M.Clone(\"M_norm\")\n",
    "        for pt in ptreco_center_uf:\n",
    "            start_reco = detectorDistribution.GetGlobalBinNumber(-1,pt)\n",
    "            end_reco = detectorDistribution.GetGlobalBinNumber(mgen_center_uf[-1]+10000,pt)\n",
    "            # print(start_reco)\n",
    "            # print(end_reco)\n",
    "            # print(end_reco-start_reco)\n",
    "            binsum = M.Integral( 0, M.GetNbinsX()+1, start_reco, end_reco)\n",
    "            print(binsum)\n",
    "            im = 0\n",
    "            for ix in range(0, M.GetNbinsX()+1):\n",
    "                for iy in range(start_reco, end_reco+1):\n",
    "                    if binsum>0:\n",
    "                        M_norm.SetBinContent(ix, iy, M.GetBinContent(ix, iy)/(binsum) )\n",
    "                im+=1\n",
    "        return M_norm\n",
    "\n",
    "def NormOutput(h):\n",
    "    h_norm = h.Clone(\"M_norm\")\n",
    "    for pt in ptgen_center_uf:\n",
    "        start_gen = signalBinning.GetGlobalBinNumber(-1,pt)\n",
    "        end_gen = signalBinning.GetGlobalBinNumber(mgen_center[-1]+10000,pt)\n",
    "        \n",
    "        binsum = h.Integral(start_gen, end_gen)\n",
    "        print(binsum)\n",
    "        im = 0\n",
    "        for ix in range(start_gen, end_gen+1):\n",
    "            if binsum>0:\n",
    "                h_norm.SetBinContent(ix,  h.GetBinContent(ix)/(binsum*mgen_width_f[im]) )\n",
    "            im+=1\n",
    "    return h_norm\n",
    "\n",
    "def NormInput(h):\n",
    "    h_norm = h.Clone(\"M_norm\")\n",
    "    for pt in ptreco_center_uf:\n",
    "        start_reco = detectorDistribution.GetGlobalBinNumber(-1,pt)\n",
    "        end_reco = detectorDistribution.GetGlobalBinNumber(mreco_center[-1]+10000,pt)\n",
    "        binsum = h.Integral(start_reco, end_reco)\n",
    "        print(binsum)\n",
    "        im = 0\n",
    "        for ix in range(start_reco, end_reco):\n",
    "            if binsum>0:\n",
    "                h_norm.SetBinContent(ix,  h.GetBinContent(ix)/(binsum*mreco_width_uf[im]) )\n",
    "            im+=1\n",
    "    return h_norm\n",
    "\n",
    "norm = True\n",
    "if norm:\n",
    "    mode = 'gen'\n",
    "    M = NormM(M, mode = mode)\n",
    "    htrue = NormOutput(htrue)\n",
    "    h = NormInput(h)\n",
    "    for key in jk_dic_root.keys():\n",
    "        jk_dic_root[key] = NormM(jk_dic_root[key], mode = mode )"
   ]
  },
  {
   "cell_type": "code",
   "execution_count": null,
   "id": "19e8c5e1-7285-4d02-acda-cbd1ce889342",
   "metadata": {
    "tags": []
   },
   "outputs": [],
   "source": [
    "orientation = ROOT.TUnfold.kHistMapOutputHoriz\n",
    "regMode = ROOT.TUnfold.kRegModeCurvature\n",
    "con = ROOT.TUnfold.kEConstraintArea #ROOT.TUnfold.kEConstraintArea\n",
    "mode =  ROOT.TUnfoldDensity.kDensityModeBinWidth\n",
    "axisSteering =  \"*[UOB]\"\n",
    "\n",
    "#u = ROOT.TUnfoldDensity(M, orientation, regMode, con, mode, genBin, detBin, \"signal\", axisSteering)\n",
    "u_list = []\n",
    "for i in range(10):\n",
    "    u_list.append(ROOT.TUnfoldDensity(jk_dic_root[str(i)],orientation,regMode,con))\n",
    "\n",
    "    u_list[i].SetInput(h)\n",
    "\n",
    "\n",
    "    nScan=50\n",
    "    tauMin=0.0\n",
    "    tauMax=0.0\n",
    "    iBest=0\n",
    "\n",
    "    logTauX = ROOT.MakeNullPointer(ROOT.TSpline)\n",
    "    logTauY = ROOT.MakeNullPointer(ROOT.TSpline)\n",
    "    lCurve = ROOT.MakeNullPointer(ROOT.TGraph)\n",
    "    u_list[i].ScanLcurve(nScan,tauMin,tauMax,lCurve,logTauX,logTauY)\n",
    "    \n",
    "    "
   ]
  },
  {
   "cell_type": "code",
   "execution_count": null,
   "id": "4e8fc584-ee97-4a31-b375-c4e75f4eb33a",
   "metadata": {
    "tags": []
   },
   "outputs": [],
   "source": [
    "o_list = []\n",
    "for i in range(10):\n",
    "    o_list.append( u_list[i].GetOutput(\"o\"+str(i)))"
   ]
  },
  {
   "cell_type": "code",
   "execution_count": null,
   "id": "9f81d36e-0ab6-494a-a658-a6082040bec7",
   "metadata": {
    "tags": []
   },
   "outputs": [],
   "source": [
    "a = u_list[0].GetEmatrixSysUncorr('mat')"
   ]
  },
  {
   "cell_type": "code",
   "execution_count": null,
   "id": "94126654-3674-4e60-9612-89518ed3be3e",
   "metadata": {
    "tags": []
   },
   "outputs": [],
   "source": [
    "o_unc = o_list[0].Clone('unc')\n",
    "o_unc.Reset()\n",
    "for i in range(1, o_unc.GetNbinsX()):\n",
    "    o_unc.SetBinContent(i, o_list[0].GetBinContent(i))\n",
    "    o_unc.SetBinError(i, a.GetBinContent(i,i)**0.5)"
   ]
  },
  {
   "cell_type": "code",
   "execution_count": null,
   "id": "4f504fc5-14f4-4c61-b891-fe771ca66fc7",
   "metadata": {},
   "outputs": [],
   "source": []
  },
  {
   "cell_type": "code",
   "execution_count": null,
   "id": "d3c29de5-5cc3-4094-943c-53e5e95dd274",
   "metadata": {
    "tags": []
   },
   "outputs": [],
   "source": [
    "c_output = ROOT.TCanvas()\n",
    "for i in range(10):\n",
    "    o_list[i].SetLineColor(i)\n",
    "    o_list[i].Draw(\"hist same\")\n",
    "    \n",
    "c_output.Draw()"
   ]
  },
  {
   "cell_type": "code",
   "execution_count": null,
   "id": "a363d2a5-b506-455a-850c-c66018ba0414",
   "metadata": {
    "tags": []
   },
   "outputs": [],
   "source": [
    "%jsroot"
   ]
  },
  {
   "cell_type": "code",
   "execution_count": null,
   "id": "fc4200db-5ccb-4563-aecb-6a6c13e032a2",
   "metadata": {
    "tags": []
   },
   "outputs": [],
   "source": [
    "c_new = ROOT.TCanvas()\n",
    "o_unc.SetLineWidth(2)\n",
    "o_unc.SetFillColor(2)\n",
    "o_unc.SetFillStyle(2)\n",
    "o_unc.Draw('e')\n",
    "c_new.Draw()"
   ]
  },
  {
   "cell_type": "code",
   "execution_count": null,
   "id": "c2241349-089d-48af-a4e1-b348b647cd15",
   "metadata": {
    "tags": []
   },
   "outputs": [],
   "source": [
    "bin_avg = []\n",
    "bin_rms = []\n",
    "for i_bin in range(o_list[0].GetNbinsX()):\n",
    "    content_list = []\n",
    "    for i_jk in range(10):\n",
    "        content_list.append(o_list[i_jk].GetBinContent(i_bin))\n",
    "    bin_avg.append(np.mean(content_list) )\n",
    "    mean_content = np.mean(content_list)\n",
    "    std = np.std(content_list)\n",
    "    error = np.sqrt(10/9)*std\n",
    "    bin_rms.append(error)\n",
    "        "
   ]
  },
  {
   "cell_type": "code",
   "execution_count": null,
   "id": "6616b295-14c5-4ea8-a775-1052dc2e8f82",
   "metadata": {
    "tags": []
   },
   "outputs": [],
   "source": [
    "plt.plot(h_np/np.sum(h_np, axis = 0))"
   ]
  },
  {
   "cell_type": "code",
   "execution_count": null,
   "id": "0771ab92-d318-47f8-b3e9-4163c2129e22",
   "metadata": {
    "tags": []
   },
   "outputs": [],
   "source": [
    "np.sum(h_np, axis = 0)"
   ]
  },
  {
   "cell_type": "code",
   "execution_count": null,
   "id": "cf3956fc-7cd1-43c5-9efe-276f088fb1f2",
   "metadata": {
    "tags": []
   },
   "outputs": [],
   "source": [
    "bin_rms"
   ]
  },
  {
   "cell_type": "code",
   "execution_count": null,
   "id": "d83eef56-cceb-410e-a092-11ce8b419496",
   "metadata": {
    "tags": []
   },
   "outputs": [],
   "source": [
    "bin_rms = np.array(bin_rms)\n",
    "if not groomed:\n",
    "    np.savetxt('rms_data_u.txt', bin_rms)\n",
    "else:\n",
    "    np.savetxt('rms_data_g.txt', bin_rms)"
   ]
  },
  {
   "cell_type": "code",
   "execution_count": null,
   "id": "9bea1f57-7944-40dd-99f4-94dc6058cf18",
   "metadata": {
    "tags": []
   },
   "outputs": [],
   "source": [
    "plt.plot(bin_avg)"
   ]
  },
  {
   "cell_type": "code",
   "execution_count": null,
   "id": "b683b898-c3bd-4c57-9677-0160e8a6e25e",
   "metadata": {
    "tags": []
   },
   "outputs": [],
   "source": [
    "plt.plot(  bin_rms/np.array(bin_avg), marker = 'o')\n",
    "plt.xlabel('Bin number')\n",
    "plt.ylabel('Bin Error')"
   ]
  },
  {
   "cell_type": "code",
   "execution_count": null,
   "id": "f8abefd4-2970-4b40-9344-c507f72090ca",
   "metadata": {
    "tags": []
   },
   "outputs": [],
   "source": [
    "import numpy as np\n",
    "\n",
    "sample_size = 1000000\n",
    "data = np.random.normal(loc=0, scale=1, size=sample_size)  \n",
    "\n",
    "sample_mean = np.mean(data)\n",
    "sample_std = np.std(data, ddof=1)\n",
    "standard_error_rms = sample_std / np.sqrt(sample_size)\n",
    "\n",
    "# Step 3: Calculate Standard Error using 10-fold Jackknife Resampling\n",
    "k = 10\n",
    "n = len(data)\n",
    "subset_size = n // k\n",
    "jackknife_means = []\n",
    "\n",
    "for i in range(k):\n",
    "    start_index = i * subset_size\n",
    "    end_index = start_index + subset_size if i < k - 1 else n\n",
    "    jackknife_sample = np.delete(data, np.arange(start_index, end_index))\n",
    "    jackknife_mean = np.mean(jackknife_sample)\n",
    "    jackknife_means.append(jackknife_mean)\n",
    "\n",
    "jackknife_means = np.array(jackknife_means)\n",
    "mean_jackknife_means = np.mean(jackknife_means)\n",
    "jackknife_variance = (k - 1) / k * np.sum((jackknife_means - mean_jackknife_means) ** 2)\n",
    "standard_error_jackknife = np.sqrt(jackknife_variance)\n",
    "\n",
    "# Step 4: Compare the Results\n",
    "print(\"Standard Error using RMS method:\", standard_error_rms)\n",
    "print(\"Standard Error using 10-fold Jackknife method:\", standard_error_jackknife)"
   ]
  },
  {
   "cell_type": "code",
   "execution_count": null,
   "id": "176270fc-8834-4389-90bd-3f6148466483",
   "metadata": {
    "tags": []
   },
   "outputs": [],
   "source": [
    "jackknife_means"
   ]
  },
  {
   "cell_type": "code",
   "execution_count": null,
   "id": "7c3e691d-e002-442b-a074-e5b680398778",
   "metadata": {
    "tags": []
   },
   "outputs": [],
   "source": [
    "signalBinning.GetGlobalBinNumber(5,261)"
   ]
  },
  {
   "cell_type": "code",
   "execution_count": null,
   "id": "c89d0dd7-9a48-496b-8fb4-c48da585be5f",
   "metadata": {
    "tags": []
   },
   "outputs": [],
   "source": [
    "plt.errorbar( mgen_center, bin_avg[23: 32], bin_rms[23: 32], marker = '.')\n",
    "plt.xlim(0,200)"
   ]
  },
  {
   "cell_type": "code",
   "execution_count": null,
   "id": "1ff72aba-0af1-4632-8fff-83a5d78d4fd5",
   "metadata": {
    "tags": []
   },
   "outputs": [],
   "source": [
    "plt.errorbar( mgen_center, bin_avg[34: 43], bin_rms[34: 43], marker = 'o')\n",
    "plt.xlim(0,200)"
   ]
  },
  {
   "cell_type": "code",
   "execution_count": null,
   "id": "265f60ac-7410-4229-aec2-939974ba931d",
   "metadata": {},
   "outputs": [],
   "source": []
  },
  {
   "cell_type": "code",
   "execution_count": null,
   "id": "3e6d531e-0604-4179-b822-93d6569d34df",
   "metadata": {
    "tags": []
   },
   "outputs": [],
   "source": [
    "canvs = []\n",
    "hists = []\n",
    "hcopy_list = []\n",
    "i = 2\n",
    "for ipt in range(i,i+1): \n",
    "    ci = ROOT.TCanvas(\"c\" + str(ipt), \"c\" + str(ipt))\n",
    "    \n",
    "    for i_jk in range(10):\n",
    "        hcopy_list.append(ROOT.TH1F(\"unfolded_pt\" + str(ipt)+str(i_jk), \"Unfolded Ungroomed Jet Mass for p_{T} \" + \"  \"+  str(i_jk)+ str(ptbinsGen[ipt+1])[:-2] +\" - \" +str(ptbinsGen[ipt+2])[:-2] +' GeV', nmbinsGen, mbinsGen ))\n",
    "        m_int = 0\n",
    "        for im in range(nmbinsGen):\n",
    "            #print(im + ipt*(nmbinsGen+2) + 2)\n",
    "            # print(\"mass \", mgen_center[im])\n",
    "            # print(\"pt \" , ptgen_center[ipt])\n",
    "\n",
    "            bin_number = signalBinning.GetGlobalBinNumber(mgen_center[im], ptgen_center[ipt])\n",
    "\n",
    "            m_int = m_int + o_list[i].GetBinContent(bin_number)\n",
    "        for im in range(nmbinsGen):\n",
    "            #print(im + ipt*(nmbinsGen+2) + 2)\n",
    "            # print(\"mass \", mgen_center[im])\n",
    "            # print(\"pt \" , ptgen_center[ipt])\n",
    "\n",
    "            bin_number = signalBinning.GetGlobalBinNumber(mgen_center[im], ptgen_center[ipt])\n",
    "            if (m_int>0):\n",
    "                hcopy_list[i_jk].SetBinContent(im+1, o_list[i_jk].GetBinContent(bin_number )/(mgen_width[im]*m_int) )\n",
    "        hcopy_list[i_jk].SetLineColor(i_jk)\n",
    "        hcopy_list[i_jk].GetXaxis().SetRangeUser(0,200)\n",
    "        hcopy_list[i_jk].Draw('hist same')\n",
    "    ci.Draw()\n",
    "\n",
    "\n",
    "\n",
    "\n",
    "\n",
    "\n",
    "\n",
    "\n",
    "    "
   ]
  },
  {
   "cell_type": "code",
   "execution_count": null,
   "id": "99234bee-20b5-4b46-86e0-f2f00c39abb6",
   "metadata": {
    "tags": []
   },
   "outputs": [],
   "source": [
    "%jsroot"
   ]
  },
  {
   "cell_type": "code",
   "execution_count": null,
   "id": "782a8787-bfab-4d64-9243-dffcd8526442",
   "metadata": {
    "tags": []
   },
   "outputs": [],
   "source": [
    "c = ROOT.TCanvas()\n",
    "for h in hcopy_list:\n",
    "    h.Draw('hist same')\n",
    "c.Draw()   "
   ]
  },
  {
   "cell_type": "code",
   "execution_count": null,
   "id": "926a042e-7b41-44dd-8280-24845df5ee83",
   "metadata": {
    "tags": []
   },
   "outputs": [],
   "source": []
  },
  {
   "cell_type": "code",
   "execution_count": null,
   "id": "fcea504e-f6aa-4d76-a6d3-4b6b4b62abe0",
   "metadata": {
    "tags": []
   },
   "outputs": [],
   "source": [
    "import numpy as np\n",
    "import matplotlib.pyplot as plt\n",
    "\n",
    "# Step 1: Generate example data (truth and measured distributions)\n",
    "np.random.seed(0)  # For reproducibility\n",
    "\n",
    "# Known truth distribution\n",
    "pt_bins = np.array([0, 10, 20, 30, 40, 50])\n",
    "mass_bins = np.linspace(0, 10, 51)  # Mass bins for each pt bin\n",
    "\n",
    "# Example truth distributions for each pt-bin\n",
    "truth_distributions = [np.random.poisson(lam=(i+1)*100, size=len(mass_bins)-1) for i in range(len(pt_bins)-1)]\n",
    "\n",
    "# Normalize each pt-bin for truth distributions\n",
    "normalized_truth_distributions = [truth / truth.sum() for truth in truth_distributions]\n",
    "\n",
    "# Simulate measured data with some noise\n",
    "measured_distributions = [np.random.poisson(lam=(i+1)*100 + np.random.normal(0, 10), size=len(mass_bins)-1) for i in range(len(pt_bins)-1)]\n",
    "\n",
    "# Normalize each pt-bin for measured distributions\n",
    "normalized_measured_distributions = [measured / measured.sum() for measured in measured_distributions]\n",
    "\n",
    "# Combine normalized data into single arrays for 2D histogram\n",
    "mass_data_truth = np.concatenate([mass_bins[:-1] for _ in range(len(pt_bins)-1)])\n",
    "mass_data_measured = np.concatenate([mass_bins[:-1] for _ in range(len(pt_bins)-1)])\n",
    "truth_data = np.concatenate([np.repeat(pt_bins[i], len(mass_bins)-1) for i in range(len(pt_bins)-1)])\n",
    "measured_data = np.concatenate([np.repeat(pt_bins[i], len(mass_bins)-1) for i in range(len(pt_bins)-1)])\n",
    "\n",
    "# Step 2: Create and fill the 2D histogram (response matrix)\n",
    "response_matrix, xedges, yedges = np.histogram2d(\n",
    "    np.concatenate([mass_data_truth for _ in range(len(pt_bins)-1)]),\n",
    "    np.concatenate([mass_data_measured for _ in range(len(pt_bins)-1)]),\n",
    "    bins=(mass_bins, mass_bins)\n",
    ")\n",
    "\n",
    "# Normalize the response matrix (row-wise)\n",
    "row_sums = response_matrix.sum(axis=1, keepdims=True)\n",
    "normalized_response_matrix = response_matrix / row_sums\n",
    "\n",
    "# Verify normalization\n",
    "print(\"Normalized Response Matrix Row Sums:\", normalized_response_matrix.sum(axis=1))  # Should print an array of ones\n",
    "\n",
    "# Step 3: Fill 1D histograms for truth and measured distributions\n",
    "truth_hist, _ = np.histogram(np.concatenate([mass_data_truth for _ in range(len(pt_bins)-1)]), bins=mass_bins)\n",
    "measured_hist, _ = np.histogram(np.concatenate([mass_data_measured for _ in range(len(pt_bins)-1)]), bins=mass_bins)\n",
    "\n",
    "# Step 4: Unfold the measured distribution\n",
    "pseudo_inverse_response_matrix = np.linalg.pinv(normalized_response_matrix)\n",
    "unfolded_hist = pseudo_inverse_response_matrix.dot(measured_hist)\n",
    "\n",
    "# Step 5: Denormalize the unfolded distribution\n",
    "denormalized_unfolded_hist = unfolded_hist * measured_hist.sum() / unfolded_hist.sum()\n",
    "\n",
    "# Plot the distributions for comparison\n",
    "fig, ax = plt.subplots(figsize=(10, 6))\n",
    "\n",
    "width = 0.25  # Width of the bars\n",
    "\n",
    "# Plot the original truth distributions\n",
    "for i, truth in enumerate(truth_distributions):\n",
    "    ax.bar(mass_bins[:-1], truth, width, label=f'Original Truth pt-bin {pt_bins[i]}-{pt_bins[i+1]}', alpha=0.5)\n",
    "\n",
    "# Plot the measured distributions\n",
    "for i, measured in enumerate(measured_distributions):\n",
    "    ax.bar(mass_bins[:-1] + width, measured, width, label=f'Measured pt-bin {pt_bins[i]}-{pt_bins[i+1]}', alpha=0.5)\n",
    "\n",
    "# Plot the unfolded distributions\n",
    "ax.bar(mass_bins[:-1] + 2 * width, denormalized_unfolded_hist, width, label=f'Unfolded', alpha=0.5)\n",
    "\n",
    "ax.set_xlabel('Mass Bins')\n",
    "ax.set_ylabel('Counts')\n",
    "ax.set_title('Unfolding with Normalized pt-bins')\n",
    "ax.legend()\n",
    "\n",
    "plt.show()\n",
    "\n",
    "# Print the distributions for clarity\n",
    "print(\"Original Truth Distribution:\", truth_distributions)\n",
    "print(\"Measured Distribution:\", measured_distributions)\n",
    "print(\"Unfolded Distribution:\", denormalized_unfolded_hist)\n"
   ]
  },
  {
   "cell_type": "code",
   "execution_count": null,
   "id": "d27e7574-45ef-4dab-b52d-d87a1b7f59e8",
   "metadata": {
    "tags": []
   },
   "outputs": [],
   "source": [
    "plt.plot(truth_hist)"
   ]
  },
  {
   "cell_type": "code",
   "execution_count": null,
   "id": "df373cae-9a7a-4e08-8bde-15e72febf0f7",
   "metadata": {},
   "outputs": [],
   "source": []
  }
 ],
 "metadata": {
  "kernelspec": {
   "display_name": "Python 3 (ipykernel)",
   "language": "python",
   "name": "python3"
  },
  "language_info": {
   "codemirror_mode": {
    "name": "ipython",
    "version": 3
   },
   "file_extension": ".py",
   "mimetype": "text/x-python",
   "name": "python",
   "nbconvert_exporter": "python",
   "pygments_lexer": "ipython3",
   "version": "3.10.0"
  }
 },
 "nbformat": 4,
 "nbformat_minor": 5
}
