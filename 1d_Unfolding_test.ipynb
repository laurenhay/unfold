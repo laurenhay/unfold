{
 "cells": [
  {
   "cell_type": "code",
   "execution_count": 1,
   "id": "e4d2b5bb-82ad-47b6-a907-830a0b798529",
   "metadata": {
    "tags": []
   },
   "outputs": [
    {
     "name": "stdout",
     "output_type": "stream",
     "text": [
      "Welcome to JupyROOT 6.28/02\n"
     ]
    }
   ],
   "source": [
    "import ROOT\n",
    "import uproot\n",
    "import numpy as np\n",
    "import array as array\n",
    "import math\n",
    "import matplotlib.pyplot as plt\n",
    "import pickle as pkl\n",
    "import hist\n",
    "#import statistics as st\n",
    "ROOT.gStyle.SetOptStat(000000)"
   ]
  },
  {
   "cell_type": "code",
   "execution_count": 2,
   "id": "903686d8-a322-429c-90b2-48de186ab69c",
   "metadata": {
    "tags": []
   },
   "outputs": [],
   "source": [
    "with open(\"pkl_files/old_bins/june13/qjetmass_zjets_gen__all_syst.pkl\", \"rb\") as f:\n",
    "    output = pkl.load( f )\n",
    "\n",
    "with open(\"pkl_files/old_bins/june13/qjetmass_zjets_reco.pkl\", \"rb\") as f:\n",
    "    output_data = pkl.load( f )"
   ]
  },
  {
   "cell_type": "code",
   "execution_count": 28,
   "id": "6aea2898-3f73-4b4d-8b4c-63e40b59cee0",
   "metadata": {
    "tags": []
   },
   "outputs": [],
   "source": [
    "groomed = False\n",
    "closure = False"
   ]
  },
  {
   "cell_type": "code",
   "execution_count": 29,
   "id": "c92943b3-2538-4977-93f1-b370f71d2c7d",
   "metadata": {
    "tags": []
   },
   "outputs": [
    {
     "data": {
      "text/plain": [
       "Hist(\n",
       "  Variable([0, 170, 200, 260, 350, 460, 13000], name='ptgen', label='p_{T,RECO} (GeV)'),\n",
       "  Variable([0, 170, 200, 260, 350, 460, 13000], name='ptreco', label='p_{T,RECO} (GeV)'),\n",
       "  Variable([0, 20, 40, 60, 80, 100, 150, 200, 13000], name='mgen', label='Mass (GeV)'),\n",
       "  Variable([0, 10, 20, 30, 40, 50, 60, 70, 80, 90, 100, 125, 150, 175, 200, 6200, 13000], name='mreco', label='m_{RECO} (GeV)'),\n",
       "  storage=Weight()) # Sum: WeightedSum(value=169426, variance=57906.3) (WeightedSum(value=169427, variance=57906.3) with flow)"
      ]
     },
     "execution_count": 29,
     "metadata": {},
     "output_type": "execute_result"
    }
   ],
   "source": [
    "if groomed:\n",
    "    s_response = 'response_matrix_g'\n",
    "    s_data = 'ptjet_mjet_g_reco'\n",
    "else:\n",
    "    s_response = 'response_matrix_u'\n",
    "    s_data = 'ptjet_mjet_u_reco'\n",
    "    \n",
    "resp_hist = output[s_response][{'systematic':'nominal'}].project('ptgen', 'ptreco', 'mgen', 'mreco')\n",
    "resp_hist"
   ]
  },
  {
   "cell_type": "code",
   "execution_count": 30,
   "id": "17bab809-b4b9-4a3b-b0e7-c4d6b5964d12",
   "metadata": {
    "tags": []
   },
   "outputs": [],
   "source": [
    "bin_by_bin = True"
   ]
  },
  {
   "cell_type": "code",
   "execution_count": 31,
   "id": "59df959d-b617-4591-81f9-a95f777ce55c",
   "metadata": {
    "tags": []
   },
   "outputs": [],
   "source": [
    "ipt = 3\n",
    "if not bin_by_bin:\n",
    "    mresp_hist = resp_hist.project( 'mgen', 'mreco')\n",
    "else:\n",
    "    mresp_hist = resp_hist[ipt,:,:,:]\n",
    "    mresp_hist.underflow = 0\n",
    "    mresp_hist.overflow = 0\n",
    "    mresp_hist = mresp_hist.project( 'mgen', 'mreco')\n",
    "    "
   ]
  },
  {
   "cell_type": "code",
   "execution_count": 32,
   "id": "7e4a73c2-0cc4-48d8-ac20-5a0fdcaaaa47",
   "metadata": {
    "tags": []
   },
   "outputs": [],
   "source": [
    "mgenbins = mresp_hist.axes['mgen']\n",
    "mrecobins = mresp_hist.axes['mreco']"
   ]
  },
  {
   "cell_type": "code",
   "execution_count": 33,
   "id": "c6ae978a-7915-4907-a21d-5f67326e2e1d",
   "metadata": {
    "tags": []
   },
   "outputs": [
    {
     "data": {
      "text/plain": [
       "Variable([0, 20, 40, 60, 80, 100, 150, 200, 13000], name='mgen', label='Mass (GeV)')"
      ]
     },
     "execution_count": 33,
     "metadata": {},
     "output_type": "execute_result"
    }
   ],
   "source": [
    "mgenbins"
   ]
  },
  {
   "cell_type": "code",
   "execution_count": 34,
   "id": "3128676c-f2a1-43ed-a15f-fb6745faaf1e",
   "metadata": {
    "tags": []
   },
   "outputs": [],
   "source": [
    "\n",
    "\n",
    "nmgenbins = len(mgenbins.edges) - 1\n",
    "nmrecobins = len(mrecobins.edges) - 1"
   ]
  },
  {
   "cell_type": "code",
   "execution_count": 35,
   "id": "bd812bdf-1f5c-4d04-ad54-81125d708e41",
   "metadata": {
    "tags": []
   },
   "outputs": [
    {
     "data": {
      "text/plain": [
       "True"
      ]
     },
     "execution_count": 35,
     "metadata": {},
     "output_type": "execute_result"
    }
   ],
   "source": [
    "mBinsReco = array.array('d', [0, 10, 20, 30, 40, 50, 60, 70, 80, 90, 100, 125, 150, 175, 200, 6200, 13000])\n",
    "mBinsGen =  array.array('d', [0, 20, 40, 60, 80, 100, 150, 200, 13000])\n",
    "\n",
    "generatorBinning = ROOT.TUnfoldBinning(\"generator\")\n",
    "signalBinning = generatorBinning.AddBinning(\"signal\") \n",
    "signalBinning.AddAxis(\"massgen\",nmgenbins,mBinsGen,\n",
    "                        False, # needed for fakes\n",
    "                        False # overflow bin\n",
    "                        )\n",
    "\n",
    "\n",
    "detectorBinning = ROOT.TUnfoldBinning(\"detector\") \n",
    "detectorDistribution=detectorBinning.AddBinning(\"detectordistribution\")\n",
    "detectorDistribution.AddAxis(\"mass\",nmrecobins,mBinsReco,\n",
    "                        False, # no underflow bin (not reconstructed)\n",
    "                        False # overflow bin\n",
    "                        )"
   ]
  },
  {
   "cell_type": "code",
   "execution_count": 36,
   "id": "b523d66b-34f2-48cc-a695-768ab734e502",
   "metadata": {
    "tags": []
   },
   "outputs": [
    {
     "name": "stderr",
     "output_type": "stream",
     "text": [
      "Warning in <TROOT::Append>: Replacing existing TH1: M (Potential memory leak).\n",
      "Warning in <TROOT::Append>: Replacing existing TH1: h (Potential memory leak).\n",
      "Warning in <TROOT::Append>: Replacing existing TH1: htrue (Potential memory leak).\n"
     ]
    }
   ],
   "source": [
    "M = ROOT.TUnfoldBinning.CreateHistogramOfMigrations(generatorBinning,detectorBinning,\"M\")\n",
    "\n",
    "h = detectorBinning.CreateHistogram(\"h\")\n",
    "\n",
    "    \n",
    "htrue = generatorBinning.CreateHistogram(\"htrue\")"
   ]
  },
  {
   "cell_type": "code",
   "execution_count": 37,
   "id": "0e1e7d96-4c87-4e84-997a-44ee684129e2",
   "metadata": {
    "tags": []
   },
   "outputs": [],
   "source": [
    "M_np = mresp_hist.values()\n",
    "M_error_np = mresp_hist.variances()**0.5\n",
    "if closure:\n",
    "    h_np = np.sum(M_np, axis = 0)\n",
    "    h_error_np = np.sum(mresp_hist.variances(), axis = 0)**0.5\n",
    "else:\n",
    "    h_np = output_data[s_data].project('ptreco','mreco')[ipt,:]\n",
    "    h_np.underflow = 0\n",
    "    h_np.overflow = 0\n",
    "    h_np = h_np.project('mreco').values()\n",
    "    h_error_np  = h_np**0.5\n",
    "\n",
    "htrue_np = np.sum(M_np, axis = 1 )\n",
    "htrue_error_np = np.sum(mresp_hist.variances(), axis = 1)**0.5"
   ]
  },
  {
   "cell_type": "code",
   "execution_count": null,
   "id": "19e7e244-6ff3-4d32-80d1-bfe72561fd28",
   "metadata": {
    "tags": []
   },
   "outputs": [],
   "source": []
  },
  {
   "cell_type": "code",
   "execution_count": 38,
   "id": "af216af4-20b8-42bc-afef-30da8308c4b5",
   "metadata": {
    "tags": []
   },
   "outputs": [],
   "source": [
    "for i in range(h_np.shape[0]):\n",
    "    h.SetBinContent(i+1, h_np[i])\n",
    "    h.SetBinError(i+1, h_error_np[i])\n",
    "for j in range(htrue_np.shape[0]):\n",
    "    htrue.SetBinContent(j+1, htrue_np[j])\n",
    "    htrue.SetBinError(j+1, htrue_error_np[j])"
   ]
  },
  {
   "cell_type": "code",
   "execution_count": 39,
   "id": "03fea4e9-2920-4468-bda3-4835a55e92dc",
   "metadata": {
    "tags": []
   },
   "outputs": [],
   "source": [
    "for i in range(M_np.shape[0]):\n",
    "    for j in range(M_np.shape[1]):\n",
    "        M.SetBinContent(i+1, j+1, M_np[i,j])\n",
    "        M.SetBinError(i+1, j+1, M_error_np[i,j])"
   ]
  },
  {
   "cell_type": "code",
   "execution_count": 40,
   "id": "d7ba899f-1495-4888-8fb0-54ba4dfa1441",
   "metadata": {
    "tags": []
   },
   "outputs": [],
   "source": [
    "h_np = np.sum(M_np, axis = 0)\n",
    "htrue_np = np.sum(M_np, axis = 1 )\n",
    "\n",
    "\n",
    "\n",
    "for i in range(M_np.shape[0]):\n",
    "    for j in range(M_np.shape[1]):\n",
    "        M.SetBinContent(i+1, j+1, M_np[i,j])\n",
    "        M.SetBinError(i+1, j+1, M_error_np[i,j])"
   ]
  },
  {
   "cell_type": "code",
   "execution_count": 41,
   "id": "bfe8ed14-05ef-42ac-9966-e0b784e2c909",
   "metadata": {
    "tags": []
   },
   "outputs": [
    {
     "data": {
      "image/png": "[encoded data removed]",
      "text/plain": [
       "<IPython.core.display.Image object>"
      ]
     },
     "metadata": {},
     "output_type": "display_data"
    }
   ],
   "source": [
    "cM = ROOT.TCanvas()\n",
    "M.Draw('colz')\n",
    "cM.SetLogz()\n",
    "cM.Draw()"
   ]
  },
  {
   "cell_type": "code",
   "execution_count": 46,
   "id": "3a62d8a3-4e3e-4496-b88a-3f3ef9fefaba",
   "metadata": {
    "tags": []
   },
   "outputs": [
    {
     "data": {
      "text/plain": [
       "inf"
      ]
     },
     "execution_count": 46,
     "metadata": {},
     "output_type": "execute_result"
    }
   ],
   "source": [
    "import numpy as np\n",
    "np.linalg.cond(M_np)"
   ]
  },
  {
   "cell_type": "code",
   "execution_count": 43,
   "id": "7f66c13f-0868-402d-9742-c669b402aced",
   "metadata": {
    "tags": []
   },
   "outputs": [
    {
     "data": {
      "text/plain": [
       "(8, 16)"
      ]
     },
     "execution_count": 43,
     "metadata": {},
     "output_type": "execute_result"
    }
   ],
   "source": [
    "M_np.shape"
   ]
  },
  {
   "cell_type": "code",
   "execution_count": 44,
   "id": "32b0388d-e029-4946-9e21-efb2b6472b9e",
   "metadata": {
    "tags": []
   },
   "outputs": [
    {
     "data": {
      "image/png": "[encoded data removed]",
      "text/plain": [
       "<IPython.core.display.Image object>"
      ]
     },
     "metadata": {},
     "output_type": "display_data"
    }
   ],
   "source": [
    "cP = ROOT.TCanvas()\n",
    "proj_gen = M.ProjectionX()\n",
    "proj_gen.Draw()\n",
    "htrue.SetMarkerColor(4)\n",
    "htrue.SetMarkerStyle(4)\n",
    "htrue.SetMarkerSize(1)\n",
    "htrue.SetMarkerColor(6)\n",
    "\n",
    "htrue.Draw('same *')\n",
    "cP.Draw()"
   ]
  },
  {
   "cell_type": "code",
   "execution_count": 45,
   "id": "08c9dd50-1457-4f05-8e32-88c16a28fe5a",
   "metadata": {
    "tags": []
   },
   "outputs": [
    {
     "data": {
      "image/png": "[encoded data removed]",
      "text/plain": [
       "<IPython.core.display.Image object>"
      ]
     },
     "metadata": {},
     "output_type": "display_data"
    }
   ],
   "source": [
    "cP = ROOT.TCanvas()\n",
    "proj_reco = M.ProjectionY()\n",
    "proj_reco.Draw()\n",
    "h.SetMarkerColor(3)\n",
    "h.SetMarkerStyle(3)\n",
    "h.SetMarkerSize(2)\n",
    "\n",
    "h.Draw('same *')\n",
    "cP.Draw()"
   ]
  },
  {
   "cell_type": "code",
   "execution_count": 73,
   "id": "687d72ec-9465-452b-b188-1062acab8deb",
   "metadata": {
    "tags": []
   },
   "outputs": [
    {
     "name": "stderr",
     "output_type": "stream",
     "text": [
      "Info in <TUnfold::SetConstraint>: fConstraint=1\n",
      "Info in <TUnfold::TUnfold>: underflow and overflow bin do not depend on the input data\n",
      "Info in <TUnfold::TUnfold>: 16 input bins and 8 output bins\n",
      "Info in <TUnfoldDensity::TUnfold>: *NOT* unfolding bin #0\n",
      "Info in <TUnfoldDensity::TUnfold>: *NOT* unfolding bin #9\n",
      "Info in <TUnfoldDensity::RegularizeOneDistribution>: regularizing signal regMode=3 densityMode=1 axisSteering=*[b]\n"
     ]
    }
   ],
   "source": [
    "orientation = ROOT.TUnfold.kHistMapOutputHoriz\n",
    "regMode = ROOT.TUnfold.kRegModeCurvature\n",
    "con = ROOT.TUnfold.kEConstraintArea #ROOT.TUnfold.kEConstraintArea\n",
    "mode =  ROOT.TUnfoldDensity.kDensityModeBinWidth\n",
    "axisSteering =  \"*[b]\"\n",
    "\n",
    "u = ROOT.TUnfoldDensity(M, orientation, regMode, con, mode, generatorBinning, detectorBinning, \"signal\", axisSteering)\n",
    "\n"
   ]
  },
  {
   "cell_type": "code",
   "execution_count": 74,
   "id": "7b510e73-7f2c-44d4-b220-8f74aac00d43",
   "metadata": {
    "tags": []
   },
   "outputs": [
    {
     "data": {
      "text/plain": [
       "3"
      ]
     },
     "execution_count": 74,
     "metadata": {},
     "output_type": "execute_result"
    },
    {
     "name": "stderr",
     "output_type": "stream",
     "text": [
      "Warning in <TUnfoldDensity::SetInput>: 3/16 input bins have zero error, and are ignored.\n"
     ]
    }
   ],
   "source": [
    "u.SetInput( h )"
   ]
  },
  {
   "cell_type": "code",
   "execution_count": 75,
   "id": "753714d5-e579-47cd-8af2-3ee4f17303db",
   "metadata": {
    "tags": []
   },
   "outputs": [
    {
     "data": {
      "text/plain": [
       "46"
      ]
     },
     "execution_count": 75,
     "metadata": {},
     "output_type": "execute_result"
    },
    {
     "name": "stderr",
     "output_type": "stream",
     "text": [
      "Info in <TUnfoldDensity::ScanTau>: logtau=-Infinity y=0.627350 X=1.902298 Y=0.028356\n",
      "Info in <TUnfoldDensity::ScanTau>: logtau=0.954486 y=0.608890 X=1.913861 Y=0.005675\n",
      "Info in <TUnfoldDensity::ScanTay>: logtau=0.454486 y=0.625457 X=1.902424 Y=0.026008\n",
      "Info in <TUnfoldDensity::ScanTau>: logtau=0.704486 y=0.621400 X=1.903539 Y=0.020992\n",
      "Info in <TUnfoldDensity::ScanTau>: logtau=0.579486 y=0.623991 X=1.902695 Y=0.024192\n",
      "Info in <TUnfoldDensity::ScanTau>: logtau=0.829486 y=0.616840 X=1.906127 Y=0.015387\n",
      "Info in <TUnfoldDensity::ScanTau>: logtau=0.516986 y=0.624828 X=1.902522 Y=0.025228\n",
      "Info in <TUnfoldDensity::ScanTau>: logtau=0.641986 y=0.622878 X=1.903001 Y=0.022817\n",
      "Info in <TUnfoldDensity::ScanTau>: logtau=0.766986 y=0.619438 X=1.904482 Y=0.018577\n",
      "Info in <TUnfoldDensity::ScanTau>: logtau=0.891986 y=0.613408 X=1.908977 Y=0.011186\n",
      "Info in <TUnfoldDensity::ScanTau>: logtau=0.485736 y=0.625165 X=1.902466 Y=0.025646\n",
      "Info in <TUnfoldDensity::ScanTau>: logtau=0.548236 y=0.624440 X=1.902596 Y=0.024747\n",
      "Info in <TUnfoldDensity::ScanTau>: logtau=0.610736 y=0.623474 X=1.902827 Y=0.023553\n",
      "Info in <TUnfoldDensity::ScanTau>: logtau=0.673236 y=0.622191 X=1.903232 Y=0.021969\n",
      "Info in <TUnfoldDensity::ScanTau>: logtau=0.735736 y=0.620488 X=1.903945 Y=0.019869\n",
      "Info in <TUnfoldDensity::ScanTau>: logtau=0.798236 y=0.618230 X=1.905191 Y=0.017092\n",
      "Info in <TUnfoldDensity::ScanTau>: logtau=0.860736 y=0.615243 X=1.907359 Y=0.013430\n",
      "Info in <TUnfoldDensity::ScanTau>: logtau=0.923236 y=0.611303 X=1.911096 Y=0.008615\n",
      "Info in <TUnfoldDensity::ScanTau>: logtau=0.470111 y=0.625316 X=1.902444 Y=0.025833\n",
      "Info in <TUnfoldDensity::ScanTau>: logtau=0.501361 y=0.625003 X=1.902492 Y=0.025444\n",
      "Info in <TUnfoldDensity::ScanTau>: logtau=0.532611 y=0.624641 X=1.902557 Y=0.024996\n",
      "Info in <TUnfoldDensity::ScanTau>: logtau=0.563861 y=0.624223 X=1.902642 Y=0.024480\n",
      "Info in <TUnfoldDensity::ScanTau>: logtau=0.595111 y=0.623742 X=1.902756 Y=0.023884\n",
      "Info in <TUnfoldDensity::ScanTau>: logtau=0.626361 y=0.623187 X=1.902907 Y=0.023198\n",
      "Info in <TUnfoldDensity::ScanTau>: logtau=0.657611 y=0.622547 X=1.903108 Y=0.022408\n",
      "Info in <TUnfoldDensity::ScanTau>: logtau=0.688861 y=0.621810 X=1.903375 Y=0.021498\n",
      "Info in <TUnfoldDensity::ScanTau>: logtau=0.720111 y=0.620960 X=1.903727 Y=0.020450\n",
      "Info in <TUnfoldDensity::ScanTau>: logtau=0.751361 y=0.619982 X=1.904194 Y=0.019245\n",
      "Info in <TUnfoldDensity::ScanTau>: logtau=0.782611 y=0.618855 X=1.904812 Y=0.017860\n",
      "Info in <TUnfoldDensity::ScanTau>: logtau=0.813861 y=0.617559 X=1.905627 Y=0.016269\n",
      "Info in <TUnfoldDensity::ScanTau>: logtau=0.845111 y=0.616069 X=1.906701 Y=0.014442\n",
      "Info in <TUnfoldDensity::ScanTau>: logtau=0.876361 y=0.614357 X=1.908113 Y=0.012346\n",
      "Info in <TUnfoldDensity::ScanTau>: logtau=0.907611 y=0.612392 X=1.909965 Y=0.009944\n",
      "Info in <TUnfoldDensity::ScanTau>: logtau=0.938861 y=0.610138 X=1.912387 Y=0.007195\n",
      "Info in <TUnfoldDensity::ScanTau>: logtau=0.462299 y=0.625388 X=1.902434 Y=0.025922\n",
      "Info in <TUnfoldDensity::ScanTau>: logtau=0.477924 y=0.625242 X=1.902455 Y=0.025741\n",
      "Info in <TUnfoldDensity::ScanTau>: logtau=0.493549 y=0.625085 X=1.902479 Y=0.025547\n",
      "Info in <TUnfoldDensity::ScanTau>: logtau=0.509174 y=0.624917 X=1.902507 Y=0.025338\n",
      "Info in <TUnfoldDensity::ScanTau>: logtau=0.524799 y=0.624736 X=1.902539 Y=0.025114\n",
      "Info in <TUnfoldDensity::ScanTau>: logtau=0.540424 y=0.624542 X=1.902576 Y=0.024874\n",
      "Info in <TUnfoldDensity::ScanTau>: logtau=0.556049 y=0.624333 X=1.902619 Y=0.024616\n",
      "Info in <TUnfoldDensity::ScanTau>: logtau=0.571674 y=0.624109 X=1.902668 Y=0.024339\n",
      "Info in <TUnfoldDensity::ScanTau>: logtau=0.587299 y=0.623869 X=1.902725 Y=0.024041\n",
      "Info in <TUnfoldDensity::ScanTau>: logtau=0.602924 y=0.623611 X=1.902790 Y=0.023722\n",
      "Info in <TUnfoldDensity::ScanTau>: logtau=0.618549 y=0.623333 X=1.902866 Y=0.023379\n",
      "Info in <TUnfoldDensity::ScanTau>: logtau=0.634174 y=0.623035 X=1.902952 Y=0.023011\n",
      "Info in <TUnfoldDensity::ScanTau>: logtau=0.649799 y=0.622716 X=1.903053 Y=0.022616\n",
      "Info in <TUnfoldDensity::ScanTau>: logtau=0.665424 y=0.622372 X=1.903168 Y=0.022192\n",
      "Info in <TUnfoldDensity::ScanTau>: logtau=0.681049 y=0.622004 X=1.903301 Y=0.021737\n",
      "Info in <TUnfoldDensity::ScanTau>: logtau=0.696674 y=0.621608 X=1.903454 Y=0.021249\n",
      "Info in <TUnfoldDensity::ScanTau>: Result logtau=0.923236 y=0.611303 X=1.911096 Y=0.008615\n"
     ]
    }
   ],
   "source": [
    "graph = ROOT.MakeNullPointer(ROOT.TGraph)\n",
    "spline = ROOT.MakeNullPointer(ROOT.TSpline)\n",
    "#u.DoUnfold(0.0)\n",
    "u.ScanTau(50,0,0,spline)\n",
    "#u.ScanLcurve(50, 0, 0,graph)"
   ]
  },
  {
   "cell_type": "code",
   "execution_count": 76,
   "id": "aa0d81bc-6bcd-4cba-a332-c330db700342",
   "metadata": {
    "tags": []
   },
   "outputs": [
    {
     "name": "stderr",
     "output_type": "stream",
     "text": [
      "Error in <TUnfoldBinning::DecodeAxisSteering>: steering \"*\" does not end with [options]\n",
      "Warning in <TROOT::Append>: Replacing existing TH1: output (Potential memory leak).\n",
      "Error in <TUnfoldBinning::DecodeAxisSteering>: steering \"*\" does not end with [options]\n"
     ]
    }
   ],
   "source": [
    "o_0 = u.GetOutput('output','Unfolded Mass for full p_{T} spectrum','signal','*', ROOT.kTRUE)"
   ]
  },
  {
   "cell_type": "code",
   "execution_count": 77,
   "id": "56dd11d4-1003-47f8-a22a-935229613dd9",
   "metadata": {
    "tags": []
   },
   "outputs": [],
   "source": [
    "%jsroot "
   ]
  },
  {
   "cell_type": "code",
   "execution_count": 86,
   "id": "43c87493-29b2-4d3c-8730-cc68e2b6de20",
   "metadata": {
    "tags": []
   },
   "outputs": [
    {
     "name": "stderr",
     "output_type": "stream",
     "text": [
      "Warning in <TROOT::Append>: Replacing existing TH1: input (Potential memory leak).\n"
     ]
    },
    {
     "data": {
      "text/html": [
       "\n",
       "\n",
       "<div id=\"root_plot_1718732266302\"\n",
       "     style=\"width: 696px; height: 472px\">\n",
       "</div>\n",
       "<script>\n",
       "\n",
       "function display_root_plot_1718732266302(Core) {\n",
       "   let obj = Core.parse({\"_typename\":\"TCanvas\",\"fUniqueID\":0,\"fBits\":3342344,\"fLineColor\":1,\"fLineStyle\":1,\"fLineWidth\":1,\"fFillColor\":0,\"fFillStyle\":1001,\"fLeftMargin\":0.1,\"fRightMargin\":0.1,\"fBottomMargin\":0.1,\"fTopMargin\":0.1,\"fXfile\":2,\"fYfile\":2,\"fAfile\":1,\"fXstat\":0.99,\"fYstat\":0.99,\"fAstat\":2,\"fFrameFillColor\":0,\"fFrameLineColor\":1,\"fFrameFillStyle\":1001,\"fFrameLineStyle\":1,\"fFrameLineWidth\":1,\"fFrameBorderSize\":1,\"fFrameBorderMode\":0,\"fX1\":-25.0000018626453,\"fY1\":-219.782813497003,\"fX2\":225.000001862645,\"fY2\":1390.05082563408,\"fXtoAbsPixelk\":69.6000541484835,\"fXtoPixelk\":69.6000541484835,\"fXtoPixel\":2.78399995851517,\"fYtoAbsPixelk\":407.560169102382,\"fYtoPixelk\":407.560169102382,\"fYtoPixel\":-0.293197997933976,\"fUtoAbsPixelk\":5e-5,\"fUtoPixelk\":5e-5,\"fUtoPixel\":696,\"fVtoAbsPixelk\":472.00005,\"fVtoPixelk\":472,\"fVtoPixel\":-472,\"fAbsPixeltoXk\":-25.0000018626453,\"fPixeltoXk\":-25.0000018626453,\"fPixeltoX\":0.359195407651279,\"fAbsPixeltoYk\":1390.05082563408,\"fPixeltoYk\":-219.782813497003,\"fPixeltoY\":-3.41066448968449,\"fXlowNDC\":0,\"fYlowNDC\":0,\"fXUpNDC\":1,\"fYUpNDC\":1,\"fWNDC\":1,\"fHNDC\":1,\"fAbsXlowNDC\":0,\"fAbsYlowNDC\":0,\"fAbsWNDC\":1,\"fAbsHNDC\":1,\"fUxmin\":0,\"fUymin\":-58.799439988538,\"fUxmax\":200,\"fUymax\":1229.06745212561,\"fTheta\":30,\"fPhi\":30,\"fAspectRatio\":0,\"fNumber\":0,\"fTickx\":0,\"fTicky\":0,\"fLogx\":0,\"fLogy\":0,\"fLogz\":0,\"fPadPaint\":0,\"fCrosshair\":0,\"fCrosshairPos\":0,\"fBorderSize\":2,\"fBorderMode\":0,\"fModified\":false,\"fGridx\":false,\"fGridy\":false,\"fAbsCoord\":false,\"fEditable\":true,\"fFixedAspectRatio\":false,\"fPrimitives\":{\"_typename\":\"TList\",\"name\":\"TList\",\"arr\":[{\"_typename\":\"TFrame\",\"fUniqueID\":0,\"fBits\":8,\"fLineColor\":1,\"fLineStyle\":1,\"fLineWidth\":1,\"fFillColor\":0,\"fFillStyle\":1001,\"fX1\":0,\"fY1\":-58.799439988538,\"fX2\":200,\"fY2\":1229.06745212561,\"fBorderSize\":1,\"fBorderMode\":0},{\"_typename\":\"TH1D\",\"fUniqueID\":0,\"fBits\":520,\"fName\":\"Unfolded Mass for full p_{T} spectrum\",\"fTitle\":\"Unfolded Mass for full p_{T} spectrum\",\"fLineColor\":602,\"fLineStyle\":1,\"fLineWidth\":1,\"fFillColor\":0,\"fFillStyle\":1001,\"fMarkerColor\":1,\"fMarkerStyle\":25,\"fMarkerSize\":1,\"fNcells\":10,\"fXaxis\":{\"_typename\":\"TAxis\",\"fUniqueID\":0,\"fBits\":2048,\"fName\":\"xaxis\",\"fTitle\":\"Jet Mass (GeV)\",\"fNdivisions\":510,\"fAxisColor\":1,\"fLabelColor\":1,\"fLabelFont\":42,\"fLabelOffset\":0.005,\"fLabelSize\":0.035,\"fTickLength\":0.03,\"fTitleOffset\":1,\"fTitleSize\":0.035,\"fTitleColor\":1,\"fTitleFont\":42,\"fNbins\":8,\"fXmin\":0,\"fXmax\":13000,\"fXbins\":{\"$arr\":\"Float64\",\"len\":9,\"p\":1,\"v\":[20,40,60,80,100,150,200,13000]},\"fFirst\":1,\"fLast\":7,\"fBits2\":0,\"fTimeDisplay\":false,\"fTimeFormat\":\"\",\"fLabels\":null,\"fModLabs\":null},\"fYaxis\":{\"_typename\":\"TAxis\",\"fUniqueID\":0,\"fBits\":0,\"fName\":\"yaxis\",\"fTitle\":\"Counts\\/Bin width\",\"fNdivisions\":510,\"fAxisColor\":1,\"fLabelColor\":1,\"fLabelFont\":42,\"fLabelOffset\":0.005,\"fLabelSize\":0.035,\"fTickLength\":0.03,\"fTitleOffset\":0,\"fTitleSize\":0.035,\"fTitleColor\":1,\"fTitleFont\":42,\"fNbins\":1,\"fXmin\":0,\"fXmax\":1,\"fXbins\":[],\"fFirst\":0,\"fLast\":0,\"fBits2\":0,\"fTimeDisplay\":false,\"fTimeFormat\":\"\",\"fLabels\":null,\"fModLabs\":null},\"fZaxis\":{\"_typename\":\"TAxis\",\"fUniqueID\":0,\"fBits\":0,\"fName\":\"zaxis\",\"fTitle\":\"\",\"fNdivisions\":510,\"fAxisColor\":1,\"fLabelColor\":1,\"fLabelFont\":42,\"fLabelOffset\":0.005,\"fLabelSize\":0.035,\"fTickLength\":0.03,\"fTitleOffset\":1,\"fTitleSize\":0.035,\"fTitleColor\":1,\"fTitleFont\":42,\"fNbins\":1,\"fXmin\":0,\"fXmax\":1,\"fXbins\":[],\"fFirst\":0,\"fLast\":0,\"fBits2\":0,\"fTimeDisplay\":false,\"fTimeFormat\":\"\",\"fLabels\":null,\"fModLabs\":null},\"fBarOffset\":0,\"fBarWidth\":1000,\"fEntries\":26,\"fTsumw\":0,\"fTsumw2\":0,\"fTsumwx\":0,\"fTsumwx2\":0,\"fMaximum\":-1111,\"fMinimum\":-1111,\"fNormFactor\":0,\"fContour\":[],\"fSumw2\":{\"$arr\":\"Float64\",\"len\":10,\"p\":1,\"v\":[65.4786743291191,25.6994440805815,18.8445261025569,21.0696822785354,20.1607060908924,12.2615621659553,0.0562682346642698,1.39354593986704e-4]},\"fOption\":\"\",\"fFunctions\":{\"_typename\":\"TList\",\"name\":\"TList\",\"arr\":[],\"opt\":[]},\"fBufferSize\":0,\"fBuffer\":[],\"fBinStatErrOpt\":0,\"fStatOverflows\":2,\"fArray\":{\"$arr\":\"Float64\",\"len\":10,\"p\":1,\"v\":[1159.64856784652,254.302344967399,152.694116825844,129.474758682881,106.130604265487,21.394970082755,-0.155568951208372,0.0273454759109444]}},{\"_typename\":\"TH1D\",\"fUniqueID\":0,\"fBits\":520,\"fName\":\"input\",\"fTitle\":\"input\",\"fLineColor\":2,\"fLineStyle\":1,\"fLineWidth\":1,\"fFillColor\":0,\"fFillStyle\":1001,\"fMarkerColor\":2,\"fMarkerStyle\":3,\"fMarkerSize\":1,\"fNcells\":10,\"fXaxis\":{\"_typename\":\"TAxis\",\"fUniqueID\":0,\"fBits\":2048,\"fName\":\"xaxis\",\"fTitle\":\"\",\"fNdivisions\":510,\"fAxisColor\":1,\"fLabelColor\":1,\"fLabelFont\":42,\"fLabelOffset\":0.005,\"fLabelSize\":0.035,\"fTickLength\":0.03,\"fTitleOffset\":1,\"fTitleSize\":0.035,\"fTitleColor\":1,\"fTitleFont\":42,\"fNbins\":8,\"fXmin\":0,\"fXmax\":13000,\"fXbins\":{\"$arr\":\"Float64\",\"len\":9,\"p\":1,\"v\":[20,40,60,80,100,150,200,13000]},\"fFirst\":1,\"fLast\":7,\"fBits2\":0,\"fTimeDisplay\":false,\"fTimeFormat\":\"\",\"fLabels\":null,\"fModLabs\":null},\"fYaxis\":{\"_typename\":\"TAxis\",\"fUniqueID\":0,\"fBits\":0,\"fName\":\"yaxis\",\"fTitle\":\"\",\"fNdivisions\":510,\"fAxisColor\":1,\"fLabelColor\":1,\"fLabelFont\":42,\"fLabelOffset\":0.005,\"fLabelSize\":0.035,\"fTickLength\":0.03,\"fTitleOffset\":0,\"fTitleSize\":0.035,\"fTitleColor\":1,\"fTitleFont\":42,\"fNbins\":1,\"fXmin\":0,\"fXmax\":1,\"fXbins\":[],\"fFirst\":0,\"fLast\":0,\"fBits2\":0,\"fTimeDisplay\":false,\"fTimeFormat\":\"\",\"fLabels\":null,\"fModLabs\":null},\"fZaxis\":{\"_typename\":\"TAxis\",\"fUniqueID\":0,\"fBits\":0,\"fName\":\"zaxis\",\"fTitle\":\"\",\"fNdivisions\":510,\"fAxisColor\":1,\"fLabelColor\":1,\"fLabelFont\":42,\"fLabelOffset\":0.005,\"fLabelSize\":0.035,\"fTickLength\":0.03,\"fTitleOffset\":1,\"fTitleSize\":0.035,\"fTitleColor\":1,\"fTitleFont\":42,\"fNbins\":1,\"fXmin\":0,\"fXmax\":1,\"fXbins\":[],\"fFirst\":0,\"fLast\":0,\"fBits2\":0,\"fTimeDisplay\":false,\"fTimeFormat\":\"\",\"fLabels\":null,\"fModLabs\":null},\"fBarOffset\":0,\"fBarWidth\":1000,\"fEntries\":24,\"fTsumw\":0,\"fTsumw2\":37457,\"fTsumwx\":999765,\"fTsumwx2\":63894187.5,\"fMaximum\":-1111,\"fMinimum\":-1111,\"fNormFactor\":0,\"fContour\":[],\"fSumw2\":[],\"fOption\":\"\",\"fFunctions\":{\"_typename\":\"TList\",\"name\":\"TList\",\"arr\":[],\"opt\":[]},\"fBufferSize\":0,\"fBuffer\":[],\"fBinStatErrOpt\":0,\"fStatOverflows\":2,\"fArray\":{\"$arr\":\"Float64\",\"len\":10,\"p\":1,\"v\":[1175.9,235.25,150,134.45,99.95,30.52,0.4]}},{\"_typename\":\"TLegend\",\"fUniqueID\":0,\"fBits\":8,\"fLineColor\":1,\"fLineStyle\":1,\"fLineWidth\":1,\"fFillColor\":0,\"fFillStyle\":1001,\"fX1\":150.000000745058,\"fY1\":907.100733894753,\"fX2\":200.000001490116,\"fY2\":1229.06746172097,\"fX1NDC\":0.7,\"fY1NDC\":0.7,\"fX2NDC\":0.9,\"fY2NDC\":0.9,\"fBorderSize\":1,\"fInit\":1,\"fShadowColor\":1,\"fCornerRadius\":0,\"fOption\":\"brNDC\",\"fName\":\"TPave\",\"fTextAngle\":0,\"fTextSize\":0,\"fTextAlign\":12,\"fTextColor\":1,\"fTextFont\":42,\"fPrimitives\":{\"_typename\":\"TList\",\"name\":\"TList\",\"arr\":[{\"_typename\":\"TLegendEntry\",\"fUniqueID\":0,\"fBits\":0,\"fTextAngle\":0,\"fTextSize\":0,\"fTextAlign\":0,\"fTextColor\":0,\"fTextFont\":42,\"fLineColor\":602,\"fLineStyle\":1,\"fLineWidth\":1,\"fFillColor\":0,\"fFillStyle\":0,\"fMarkerColor\":1,\"fMarkerStyle\":25,\"fMarkerSize\":1,\"fObject\":{\"$ref\":3},\"fLabel\":\"Unfolded\",\"fOption\":\"pe\"},{\"_typename\":\"TLegendEntry\",\"fUniqueID\":0,\"fBits\":0,\"fTextAngle\":0,\"fTextSize\":0,\"fTextAlign\":0,\"fTextColor\":0,\"fTextFont\":42,\"fLineColor\":6,\"fLineStyle\":1,\"fLineWidth\":1,\"fFillColor\":0,\"fFillStyle\":1001,\"fMarkerColor\":6,\"fMarkerStyle\":32,\"fMarkerSize\":1,\"fObject\":{\"_typename\":\"TH1D\",\"fUniqueID\":0,\"fBits\":520,\"fName\":\"Unfolded Mass for full p_{T} spectrum\",\"fTitle\":\"Unfolded Mass for full p_{T} spectrum\",\"fLineColor\":6,\"fLineStyle\":1,\"fLineWidth\":1,\"fFillColor\":0,\"fFillStyle\":1001,\"fMarkerColor\":6,\"fMarkerStyle\":32,\"fMarkerSize\":1,\"fNcells\":10,\"fXaxis\":{\"_typename\":\"TAxis\",\"fUniqueID\":0,\"fBits\":2048,\"fName\":\"xaxis\",\"fTitle\":\"Jet Mass (GeV)\",\"fNdivisions\":510,\"fAxisColor\":1,\"fLabelColor\":1,\"fLabelFont\":42,\"fLabelOffset\":0.005,\"fLabelSize\":0.035,\"fTickLength\":0.03,\"fTitleOffset\":1,\"fTitleSize\":0.035,\"fTitleColor\":1,\"fTitleFont\":42,\"fNbins\":8,\"fXmin\":0,\"fXmax\":13000,\"fXbins\":{\"$arr\":\"Float64\",\"len\":9,\"p\":1,\"v\":[20,40,60,80,100,150,200,13000]},\"fFirst\":1,\"fLast\":7,\"fBits2\":0,\"fTimeDisplay\":false,\"fTimeFormat\":\"\",\"fLabels\":null,\"fModLabs\":null},\"fYaxis\":{\"_typename\":\"TAxis\",\"fUniqueID\":0,\"fBits\":0,\"fName\":\"yaxis\",\"fTitle\":\"Counts\\/Bin width\",\"fNdivisions\":510,\"fAxisColor\":1,\"fLabelColor\":1,\"fLabelFont\":42,\"fLabelOffset\":0.005,\"fLabelSize\":0.035,\"fTickLength\":0.03,\"fTitleOffset\":0,\"fTitleSize\":0.035,\"fTitleColor\":1,\"fTitleFont\":42,\"fNbins\":1,\"fXmin\":0,\"fXmax\":1,\"fXbins\":[],\"fFirst\":0,\"fLast\":0,\"fBits2\":0,\"fTimeDisplay\":false,\"fTimeFormat\":\"\",\"fLabels\":null,\"fModLabs\":null},\"fZaxis\":{\"_typename\":\"TAxis\",\"fUniqueID\":0,\"fBits\":0,\"fName\":\"zaxis\",\"fTitle\":\"\",\"fNdivisions\":510,\"fAxisColor\":1,\"fLabelColor\":1,\"fLabelFont\":42,\"fLabelOffset\":0.005,\"fLabelSize\":0.035,\"fTickLength\":0.03,\"fTitleOffset\":1,\"fTitleSize\":0.035,\"fTitleColor\":1,\"fTitleFont\":42,\"fNbins\":1,\"fXmin\":0,\"fXmax\":1,\"fXbins\":[],\"fFirst\":0,\"fLast\":0,\"fBits2\":0,\"fTimeDisplay\":false,\"fTimeFormat\":\"\",\"fLabels\":null,\"fModLabs\":null},\"fBarOffset\":0,\"fBarWidth\":1000,\"fEntries\":8,\"fTsumw\":3387.44863405641,\"fTsumw2\":0,\"fTsumwx\":91094.419028325,\"fTsumwx2\":5038310.21640104,\"fMaximum\":-1111,\"fMinimum\":-1111,\"fNormFactor\":0,\"fContour\":[],\"fSumw2\":{\"$arr\":\"Float64\",\"len\":10},\"fOption\":\"\",\"fFunctions\":{\"_typename\":\"TList\",\"name\":\"TList\",\"arr\":[],\"opt\":[]},\"fBufferSize\":0,\"fBuffer\":[],\"fBinStatErrOpt\":0,\"fStatOverflows\":2,\"fArray\":{\"$arr\":\"Float64\",\"len\":10,\"p\":1,\"v\":[1173.53143582192,218.770380526353,161.563703589323,138.464146407177,98.9813273022234,31.5195051557001,0.686633441775888,6.95111276965678e-6]}},\"fLabel\":\"Truth\",\"fOption\":\"lpf\"},{\"_typename\":\"TLegendEntry\",\"fUniqueID\":0,\"fBits\":0,\"fTextAngle\":0,\"fTextSize\":0,\"fTextAlign\":0,\"fTextColor\":0,\"fTextFont\":42,\"fLineColor\":2,\"fLineStyle\":1,\"fLineWidth\":1,\"fFillColor\":0,\"fFillStyle\":1001,\"fMarkerColor\":2,\"fMarkerStyle\":3,\"fMarkerSize\":1,\"fObject\":{\"$ref\":8},\"fLabel\":\"Input (Gen Binned)\",\"fOption\":\"lpf\"}],\"opt\":[\"pe\",\"lpf\",\"lpf\"]},\"fEntrySeparation\":0.1,\"fMargin\":0.25,\"fNColumns\":1,\"fColumnSeparation\":0},{\"$ref\":17},{\"_typename\":\"TPaveText\",\"fUniqueID\":0,\"fBits\":9,\"fLineColor\":1,\"fLineStyle\":1,\"fLineWidth\":1,\"fFillColor\":0,\"fFillStyle\":0,\"fX1\":25.4813207286656,\"fY1\":1255.12494609844,\"fX2\":174.518679271334,\"fY2\":1382.00166511471,\"fX1NDC\":0.201925287356322,\"fY1NDC\":0.916186445446338,\"fX2NDC\":0.798074712643678,\"fY2NDC\":0.995000004768372,\"fBorderSize\":0,\"fInit\":1,\"fShadowColor\":1,\"fCornerRadius\":0,\"fOption\":\"blNDC\",\"fName\":\"title\",\"fTextAngle\":0,\"fTextSize\":0,\"fTextAlign\":22,\"fTextColor\":1,\"fTextFont\":42,\"fLabel\":\"\",\"fLongest\":37,\"fMargin\":0.05,\"fLines\":{\"_typename\":\"TList\",\"name\":\"TList\",\"arr\":[{\"_typename\":\"TLatex\",\"fUniqueID\":0,\"fBits\":0,\"fName\":\"\",\"fTitle\":\"Unfolded Mass for full p_{T} spectrum\",\"fTextAngle\":0,\"fTextSize\":0,\"fTextAlign\":0,\"fTextColor\":0,\"fTextFont\":0,\"fX\":0,\"fY\":0,\"fLineColor\":1,\"fLineStyle\":1,\"fLineWidth\":2,\"fLimitFactorSize\":3,\"fOriginSize\":0.0669915229082108}],\"opt\":[\"\"]}},{\"_typename\":\"TStyle\",\"fUniqueID\":0,\"fBits\":0,\"fName\":\"Modern\",\"fTitle\":\"Modern Style\",\"fLineColor\":1,\"fLineStyle\":1,\"fLineWidth\":1,\"fFillColor\":19,\"fFillStyle\":1001,\"fMarkerColor\":1,\"fMarkerStyle\":1,\"fMarkerSize\":1,\"fTextAngle\":0,\"fTextSize\":0.05,\"fTextAlign\":11,\"fTextColor\":1,\"fTextFont\":62,\"fXaxis\":{\"_typename\":\"TAttAxis\",\"fNdivisions\":510,\"fAxisColor\":1,\"fLabelColor\":1,\"fLabelFont\":42,\"fLabelOffset\":0.005,\"fLabelSize\":0.035,\"fTickLength\":0.03,\"fTitleOffset\":1,\"fTitleSize\":0.035,\"fTitleColor\":1,\"fTitleFont\":42},\"fYaxis\":{\"_typename\":\"TAttAxis\",\"fNdivisions\":510,\"fAxisColor\":1,\"fLabelColor\":1,\"fLabelFont\":42,\"fLabelOffset\":0.005,\"fLabelSize\":0.035,\"fTickLength\":0.03,\"fTitleOffset\":0,\"fTitleSize\":0.035,\"fTitleColor\":1,\"fTitleFont\":42},\"fZaxis\":{\"_typename\":\"TAttAxis\",\"fNdivisions\":510,\"fAxisColor\":1,\"fLabelColor\":1,\"fLabelFont\":42,\"fLabelOffset\":0.005,\"fLabelSize\":0.035,\"fTickLength\":0.03,\"fTitleOffset\":1,\"fTitleSize\":0.035,\"fTitleColor\":1,\"fTitleFont\":42},\"fBarWidth\":1,\"fBarOffset\":0,\"fColorModelPS\":0,\"fDrawBorder\":0,\"fOptLogx\":0,\"fOptLogy\":0,\"fOptLogz\":0,\"fOptDate\":0,\"fOptStat\":0,\"fOptTitle\":1,\"fOptFile\":0,\"fOptFit\":0,\"fShowEventStatus\":0,\"fShowEditor\":0,\"fShowToolBar\":0,\"fNumberContours\":20,\"fAttDate\":{\"_typename\":\"TAttText\",\"fTextAngle\":0,\"fTextSize\":0.025,\"fTextAlign\":11,\"fTextColor\":1,\"fTextFont\":62},\"fDateX\":0.01,\"fDateY\":0.01,\"fEndErrorSize\":2,\"fErrorX\":0.5,\"fFuncColor\":2,\"fFuncStyle\":1,\"fFuncWidth\":2,\"fGridColor\":0,\"fGridStyle\":3,\"fGridWidth\":1,\"fLegendBorderSize\":1,\"fLegendFillColor\":0,\"fLegendFont\":42,\"fLegendTextSize\":0,\"fHatchesLineWidth\":1,\"fHatchesSpacing\":1,\"fFrameFillColor\":0,\"fFrameLineColor\":1,\"fFrameFillStyle\":1001,\"fFrameLineStyle\":1,\"fFrameLineWidth\":1,\"fFrameBorderSize\":1,\"fFrameBorderMode\":0,\"fHistFillColor\":0,\"fHistLineColor\":602,\"fHistFillStyle\":1001,\"fHistLineStyle\":1,\"fHistLineWidth\":1,\"fHistMinimumZero\":false,\"fHistTopMargin\":0.05,\"fCanvasPreferGL\":false,\"fCanvasColor\":0,\"fCanvasBorderSize\":2,\"fCanvasBorderMode\":0,\"fCanvasDefH\":500,\"fCanvasDefW\":700,\"fCanvasDefX\":10,\"fCanvasDefY\":10,\"fPadColor\":0,\"fPadBorderSize\":2,\"fPadBorderMode\":0,\"fPadBottomMargin\":0.1,\"fPadTopMargin\":0.1,\"fPadLeftMargin\":0.1,\"fPadRightMargin\":0.1,\"fPadGridX\":false,\"fPadGridY\":false,\"fPadTickX\":0,\"fPadTickY\":0,\"fPaperSizeX\":20,\"fPaperSizeY\":26,\"fScreenFactor\":1,\"fStatColor\":0,\"fStatTextColor\":1,\"fStatBorderSize\":1,\"fStatFont\":42,\"fStatFontSize\":0,\"fStatStyle\":1001,\"fStatFormat\":\"6.4g\",\"fStatX\":0.98,\"fStatY\":0.935,\"fStatW\":0.2,\"fStatH\":0.16,\"fStripDecimals\":true,\"fTitleAlign\":23,\"fTitleColor\":0,\"fTitleTextColor\":1,\"fTitleBorderSize\":0,\"fTitleFont\":42,\"fTitleFontSize\":0.05,\"fTitleStyle\":0,\"fTitleX\":0.5,\"fTitleY\":0.995,\"fTitleW\":0,\"fTitleH\":0,\"fLegoInnerR\":0.5,\"fLineStyles\":[\"\",\"  \",\" 12 12\",\" 4 8\",\" 12 16 4 16\",\" 20 12 4 12\",\" 20 12 4 12 4 12 4 12\",\" 20 20\",\" 20 12 4 12 4 12\",\" 80 20\",\" 80 40 4 40\",\"  \",\"  \",\"  \",\"  \",\"  \",\"  \",\"  \",\"  \",\"  \",\"  \",\"  \",\"  \",\"  \",\"  \",\"  \",\"  \",\"  \",\"  \",\"  \"],\"fHeaderPS\":\"\",\"fTitlePS\":\"\",\"fFitFormat\":\"5.4g\",\"fPaintTextFormat\":\"g\",\"fLineScalePS\":3,\"fJoinLinePS\":0,\"fCapLinePS\":0,\"fTimeOffset\":788918400,\"fImageScaling\":1}],\"opt\":[\"\",\" e\",\"same e\",\"\",\"same e\",\"blNDC\",\"\"]},\"fExecs\":null,\"fName\":\"c1_n6\",\"fTitle\":\"c1_n6\",\"fNumPaletteColor\":0,\"fNextPaletteColor\":0,\"fDISPLAY\":\"$DISPLAY\",\"fDoubleBuffer\":0,\"fRetained\":true,\"fXsizeUser\":0,\"fYsizeUser\":0,\"fXsizeReal\":20,\"fYsizeReal\":14.28571,\"fWindowTopX\":0,\"fWindowTopY\":0,\"fWindowWidth\":0,\"fWindowHeight\":0,\"fCw\":696,\"fCh\":472,\"fCatt\":{\"_typename\":\"TAttCanvas\",\"fXBetween\":2,\"fYBetween\":2,\"fTitleFromTop\":1.2,\"fXdate\":0.2,\"fYdate\":0.3,\"fAdate\":1},\"kMoveOpaque\":true,\"kResizeOpaque\":true,\"fHighLightColor\":2,\"fBatch\":true,\"kShowEventStatus\":false,\"kAutoExec\":true,\"kMenuBar\":true});\n",
       "   Core.settings.HandleKeys = false;\n",
       "   Core.draw(\"root_plot_1718732266302\", obj, \"\");\n",
       "}\n",
       "\n",
       "function script_load_root_plot_1718732266302(src, on_error) {\n",
       "    let script = document.createElement('script');\n",
       "    script.src = src;\n",
       "    script.onload = function() { display_root_plot_1718732266302(JSROOT); };\n",
       "    script.onerror = function() { script.remove(); on_error(); };\n",
       "    document.head.appendChild(script);\n",
       "}\n",
       "\n",
       "if (typeof requirejs !== 'undefined') {\n",
       "\n",
       "    // We are in jupyter notebooks, use require.js which should be configured already\n",
       "    requirejs.config({\n",
       "       paths: { 'JSRootCore' : [ 'build/jsroot', 'https://root.cern/js/7.2.1/build/jsroot', 'https://jsroot.gsi.de/7.2.1/build/jsroot' ] }\n",
       "    })(['JSRootCore'],  function(Core) {\n",
       "       display_root_plot_1718732266302(Core);\n",
       "    });\n",
       "\n",
       "} else if (typeof JSROOT !== 'undefined') {\n",
       "\n",
       "   // JSROOT already loaded, just use it\n",
       "   display_root_plot_1718732266302(JSROOT);\n",
       "\n",
       "} else {\n",
       "\n",
       "    // We are in jupyterlab without require.js, directly loading jsroot\n",
       "    // Jupyterlab might be installed in a different base_url so we need to know it.\n",
       "    try {\n",
       "        var base_url = JSON.parse(document.getElementById('jupyter-config-data').innerHTML).baseUrl;\n",
       "    } catch(_) {\n",
       "        var base_url = '/';\n",
       "    }\n",
       "\n",
       "    // Try loading a local version of requirejs and fallback to cdn if not possible.\n",
       "    script_load_root_plot_1718732266302(base_url + 'static/build/jsroot.js', function(){\n",
       "        console.error('Fail to load JSROOT locally, please check your jupyter_notebook_config.py file');\n",
       "        script_load_root_plot_1718732266302('https://root.cern/js/7.2.1/build/jsroot.js', function(){\n",
       "            document.getElementById(\"root_plot_1718732266302\").innerHTML = \"Failed to load JSROOT\";\n",
       "        });\n",
       "    });\n",
       "}\n",
       "\n",
       "</script>\n"
      ],
      "text/plain": [
       "<IPython.core.display.HTML object>"
      ]
     },
     "metadata": {},
     "output_type": "display_data"
    }
   ],
   "source": [
    "h2 = ROOT.TH1D('input', 'input', nmrecobins, mBinsReco)\n",
    "for i in range(1, h2.GetNbinsX()+1):\n",
    "    h2.SetBinContent(i, h.GetBinContent(i))\n",
    "    \n",
    "h2 = h2.Rebin(2)\n",
    "\n",
    "cO = ROOT.TCanvas()\n",
    "o = o_0.Clone('Unfolded Mass for full p_{T} spectrum')\n",
    "o.GetXaxis().SetTitle('Jet Mass (GeV)')\n",
    "o.GetYaxis().SetTitle('Counts/Bin width')\n",
    "\n",
    "htrue2 = o.Clone()\n",
    "htrue2.Reset()\n",
    "for i in range(1, o.GetNbinsX()+1):\n",
    "    o.SetBinContent(i, o_0.GetBinContent(i)/mgenbins.widths[i-1])\n",
    "    o.SetBinError(i, o_0.GetBinError(i)/mgenbins.widths[i-1])\n",
    "    \n",
    "    h2.SetBinContent(i, h2.GetBinContent(i)/mgenbins.widths[i-1])\n",
    "    \n",
    "    htrue2.SetBinContent(i, htrue.GetBinContent(i)/mgenbins.widths[i-1])\n",
    "    htrue2.SetMarkerStyle(32)\n",
    "    htrue2.SetMarkerColor(6)\n",
    "    htrue2.SetLineColor(6)\n",
    "    \n",
    "    h2.SetMarkerStyle(3)\n",
    "    h2.SetMarkerColor(2)\n",
    "    h2.SetLineColor(2)\n",
    "o.SetMarkerStyle(25)    \n",
    "o.SetFillColor(0)\n",
    "htrue2.Scale(o.Integral()/htrue2.Integral() )\n",
    "\n",
    "o.Draw('same e') \n",
    "h2.Draw('same e')\n",
    "\n",
    "legend = ROOT.TLegend(0.7, 0.7, 0.9, 0.9)\n",
    "legend.AddEntry(o, 'Unfolded', 'pe')\n",
    "legend.AddEntry(htrue2, 'Truth')\n",
    "legend.AddEntry(h2, 'Input (Gen Binned)')\n",
    "legend.Draw()\n",
    "htrue2.Draw('same e')\n",
    "htrue2.GetXaxis().SetRangeUser(0,200)\n",
    "h2.GetXaxis().SetRangeUser(0,200)\n",
    "o.GetXaxis().SetRangeUser(0,200)\n",
    "cO.Draw()"
   ]
  },
  {
   "cell_type": "code",
   "execution_count": 79,
   "id": "52464f93-f06b-47f4-8582-23e1923008fe",
   "metadata": {
    "tags": []
   },
   "outputs": [
    {
     "name": "stderr",
     "output_type": "stream",
     "text": [
      "Warning in <TROOT::Append>: Replacing existing TH1: Covariance (Potential memory leak).\n"
     ]
    },
    {
     "data": {
      "text/html": [
       "\n",
       "\n",
       "<div id=\"root_plot_1718731878938\"\n",
       "     style=\"width: 696px; height: 472px\">\n",
       "</div>\n",
       "<script>\n",
       "\n",
       "function display_root_plot_1718731878938(Core) {\n",
       "   let obj = Core.parse({\"_typename\":\"TCanvas\",\"fUniqueID\":0,\"fBits\":3342344,\"fLineColor\":1,\"fLineStyle\":1,\"fLineWidth\":1,\"fFillColor\":0,\"fFillStyle\":1001,\"fLeftMargin\":0.1,\"fRightMargin\":0.1,\"fBottomMargin\":0.1,\"fTopMargin\":0.1,\"fXfile\":2,\"fYfile\":2,\"fAfile\":1,\"fXstat\":0.99,\"fYstat\":0.99,\"fAstat\":2,\"fFrameFillColor\":0,\"fFrameLineColor\":1,\"fFrameFillStyle\":1001,\"fFrameLineStyle\":1,\"fFrameLineWidth\":1,\"fFrameBorderSize\":1,\"fFrameBorderMode\":0,\"fX1\":-25.0000018626453,\"fY1\":-25.0000018626453,\"fX2\":225.000001862645,\"fY2\":225.000001862645,\"fXtoAbsPixelk\":69.6000541484835,\"fXtoPixelk\":69.6000541484835,\"fXtoPixel\":2.78399995851517,\"fYtoAbsPixelk\":424.800047186661,\"fYtoPixelk\":424.800047186661,\"fYtoPixel\":-1.88799997186661,\"fUtoAbsPixelk\":5e-5,\"fUtoPixelk\":5e-5,\"fUtoPixel\":696,\"fVtoAbsPixelk\":472.00005,\"fVtoPixelk\":472,\"fVtoPixel\":-472,\"fAbsPixeltoXk\":-25.0000018626453,\"fPixeltoXk\":-25.0000018626453,\"fPixeltoX\":0.359195407651279,\"fAbsPixeltoYk\":225.000001862645,\"fPixeltoYk\":-25.0000018626453,\"fPixeltoY\":-0.529661024841717,\"fXlowNDC\":0,\"fYlowNDC\":0,\"fXUpNDC\":1,\"fYUpNDC\":1,\"fWNDC\":1,\"fHNDC\":1,\"fAbsXlowNDC\":0,\"fAbsYlowNDC\":0,\"fAbsWNDC\":1,\"fAbsHNDC\":1,\"fUxmin\":0,\"fUymin\":0,\"fUxmax\":200,\"fUymax\":200,\"fTheta\":30,\"fPhi\":30,\"fAspectRatio\":0,\"fNumber\":0,\"fTickx\":0,\"fTicky\":0,\"fLogx\":0,\"fLogy\":0,\"fLogz\":1,\"fPadPaint\":0,\"fCrosshair\":0,\"fCrosshairPos\":0,\"fBorderSize\":2,\"fBorderMode\":0,\"fModified\":false,\"fGridx\":false,\"fGridy\":false,\"fAbsCoord\":false,\"fEditable\":true,\"fFixedAspectRatio\":false,\"fPrimitives\":{\"_typename\":\"TList\",\"name\":\"TList\",\"arr\":[{\"_typename\":\"TFrame\",\"fUniqueID\":0,\"fBits\":8,\"fLineColor\":1,\"fLineStyle\":1,\"fLineWidth\":1,\"fFillColor\":0,\"fFillStyle\":1001,\"fX1\":0,\"fY1\":0,\"fX2\":200,\"fY2\":200,\"fBorderSize\":1,\"fBorderMode\":0},{\"_typename\":\"TH2D\",\"fUniqueID\":0,\"fBits\":520,\"fName\":\"Covariance\",\"fTitle\":\"Covariance\",\"fLineColor\":602,\"fLineStyle\":1,\"fLineWidth\":1,\"fFillColor\":0,\"fFillStyle\":1001,\"fMarkerColor\":1,\"fMarkerStyle\":1,\"fMarkerSize\":1,\"fNcells\":100,\"fXaxis\":{\"_typename\":\"TAxis\",\"fUniqueID\":0,\"fBits\":2048,\"fName\":\"xaxis\",\"fTitle\":\"massgen\",\"fNdivisions\":510,\"fAxisColor\":1,\"fLabelColor\":1,\"fLabelFont\":42,\"fLabelOffset\":0.005,\"fLabelSize\":0.035,\"fTickLength\":0.03,\"fTitleOffset\":1,\"fTitleSize\":0.035,\"fTitleColor\":1,\"fTitleFont\":42,\"fNbins\":8,\"fXmin\":0,\"fXmax\":13000,\"fXbins\":{\"$arr\":\"Float64\",\"len\":9,\"p\":1,\"v\":[20,40,60,80,100,150,200,13000]},\"fFirst\":1,\"fLast\":7,\"fBits2\":0,\"fTimeDisplay\":false,\"fTimeFormat\":\"\",\"fLabels\":null,\"fModLabs\":null},\"fYaxis\":{\"_typename\":\"TAxis\",\"fUniqueID\":0,\"fBits\":2048,\"fName\":\"yaxis\",\"fTitle\":\"\",\"fNdivisions\":510,\"fAxisColor\":1,\"fLabelColor\":1,\"fLabelFont\":42,\"fLabelOffset\":0.005,\"fLabelSize\":0.035,\"fTickLength\":0.03,\"fTitleOffset\":0,\"fTitleSize\":0.035,\"fTitleColor\":1,\"fTitleFont\":42,\"fNbins\":8,\"fXmin\":0,\"fXmax\":13000,\"fXbins\":{\"$arr\":\"Float64\",\"len\":9,\"p\":1,\"v\":[20,40,60,80,100,150,200,13000]},\"fFirst\":1,\"fLast\":7,\"fBits2\":0,\"fTimeDisplay\":false,\"fTimeFormat\":\"\",\"fLabels\":null,\"fModLabs\":null},\"fZaxis\":{\"_typename\":\"TAxis\",\"fUniqueID\":0,\"fBits\":0,\"fName\":\"zaxis\",\"fTitle\":\"\",\"fNdivisions\":510,\"fAxisColor\":1,\"fLabelColor\":1,\"fLabelFont\":42,\"fLabelOffset\":0.005,\"fLabelSize\":0.035,\"fTickLength\":0.03,\"fTitleOffset\":1,\"fTitleSize\":0.035,\"fTitleColor\":1,\"fTitleFont\":42,\"fNbins\":1,\"fXmin\":0,\"fXmax\":1,\"fXbins\":[],\"fFirst\":0,\"fLast\":0,\"fBits2\":0,\"fTimeDisplay\":false,\"fTimeFormat\":\"\",\"fLabels\":null,\"fModLabs\":null},\"fBarOffset\":0,\"fBarWidth\":1000,\"fEntries\":228,\"fTsumw\":0,\"fTsumw2\":0,\"fTsumwx\":0,\"fTsumwx2\":0,\"fMaximum\":-1111,\"fMinimum\":-1111,\"fNormFactor\":0,\"fContour\":{\"$arr\":\"Float64\",\"len\":20,\"p\":1,\"v\":[0.255984314037813,0.511968628075625,0.767952942113438,1.02393725615125,1.27992157018906,1.53590588422688,1.79189019826469,2.0478745123025,2.30385882634031,2.55984314037813,2.81582745441594,3.07181176845375,3.32779608249157,3.58378039652938,3.83976471056719,4.095749024605,4.35173333864282,4.60771765268063,4.86370196671844]},\"fSumw2\":{\"$arr\":\"Float64\",\"len\":100},\"fOption\":\"\",\"fFunctions\":{\"_typename\":\"TList\",\"name\":\"TList\",\"arr\":[{\"_typename\":\"TPaletteAxis\",\"fUniqueID\":0,\"fBits\":0,\"fLineColor\":1,\"fLineStyle\":1,\"fLineWidth\":1,\"fFillColor\":1178,\"fFillStyle\":1001,\"fX1\":201.250000018626,\"fY1\":0,\"fX2\":212.500000186265,\"fY2\":200,\"fX1NDC\":0.904999994039535,\"fY1NDC\":0.100000005960465,\"fX2NDC\":0.949999994039535,\"fY2NDC\":0.899999994039535,\"fBorderSize\":4,\"fInit\":1,\"fShadowColor\":1,\"fCornerRadius\":0,\"fOption\":\"br\",\"fName\":\"palette\",\"fAxis\":{\"_typename\":\"TGaxis\",\"fUniqueID\":0,\"fBits\":0,\"fLineColor\":1,\"fLineStyle\":1,\"fLineWidth\":1,\"fX1\":0,\"fY1\":0,\"fX2\":0,\"fY2\":0,\"fTextAngle\":0,\"fTextSize\":0.04,\"fTextAlign\":11,\"fTextColor\":1,\"fTextFont\":42,\"fWmin\":0,\"fWmax\":0,\"fGridLength\":0,\"fTickSize\":0.03,\"fLabelOffset\":0.005,\"fLabelSize\":0.035,\"fTitleOffset\":1,\"fTitleSize\":0.035,\"fNdiv\":0,\"fLabelColor\":1,\"fLabelFont\":42,\"fNModLabs\":0,\"fChopt\":\"\",\"fName\":\"\",\"fTitle\":\"\",\"fTimeFormat\":\"\",\"fFunctionName\":\"\",\"fModLabs\":null}}],\"opt\":[\"br\"]},\"fBufferSize\":0,\"fBuffer\":[],\"fBinStatErrOpt\":0,\"fStatOverflows\":2,\"fScalefactor\":1,\"fTsumwy\":0,\"fTsumwy2\":0,\"fTsumwxy\":0,\"fArray\":{\"$arr\":\"Float64\",\"len\":100,\"p\":11,\"v\":[27518.2897169378,-4566.15301146392,395.710317764106,-1270.16735007853,1461.31676066616,-3360.4345120988,107.03142372467,2907.37801147883,0,0,-4566.15301146392,18598.348215937,-5431.08565318279,3662.83611778751,-7401.36167753048,16375.9924738321,-531.328445570252,-15621.2011204611,0,0,395.710317764106,-5431.08565318279,9802.68327243312,-5133.19618371459,4541.48810651453,-8432.19682434237,285.485367526119,7024.99393351876,0,0,-1270.16735007853,3662.83611778751,-5133.19618371459,12766.7592666223,-11373.3106458108,17659.260980323,-623.926681886137,-13098.760329585,0,0,1461.31676066616,-7401.36167753048,4541.48810651453,-11373.3106458108,25438.3318490953,-47359.6082131045,1713.45899962324,35102.2969058563,0,0,-3360.4345120988,16375.9924738321,-8432.19682434237,17659.260980323,-47359.6082131045,131730.481955058,-4979.61140202233,-100564.135953508,0,0,107.03142372467,-531.328445570252,285.485367526119,-623.926681886137,1713.45899962324,-4979.61140202233,285.802825511763,3735.30946553251,0,0,2907.37801147883,-15621.2011204611,7024.99393351876,-13098.760329585,35102.2969058563,-100564.135953508,3735.30946553251,80864.1411788275]}},{\"_typename\":\"TPaveText\",\"fUniqueID\":0,\"fBits\":9,\"fLineColor\":1,\"fLineStyle\":1,\"fLineWidth\":1,\"fFillColor\":0,\"fFillStyle\":0,\"fX1\":74.1522984654139,\"fY1\":210.00000262633,\"fX2\":125.847701534586,\"fY2\":223.750003036112,\"fX1NDC\":0.396609195402299,\"fY1NDC\":0.940000003948808,\"fX2NDC\":0.603390804597701,\"fY2NDC\":0.995000004768372,\"fBorderSize\":0,\"fInit\":1,\"fShadowColor\":1,\"fCornerRadius\":0,\"fOption\":\"blNDC\",\"fName\":\"title\",\"fTextAngle\":0,\"fTextSize\":0,\"fTextAlign\":22,\"fTextColor\":1,\"fTextFont\":42,\"fLabel\":\"\",\"fLongest\":10,\"fMargin\":0.05,\"fLines\":{\"_typename\":\"TList\",\"name\":\"TList\",\"arr\":[{\"_typename\":\"TLatex\",\"fUniqueID\":0,\"fBits\":0,\"fName\":\"\",\"fTitle\":\"Covariance\",\"fTextAngle\":0,\"fTextSize\":0,\"fTextAlign\":0,\"fTextColor\":0,\"fTextFont\":0,\"fX\":0,\"fY\":0,\"fLineColor\":1,\"fLineStyle\":1,\"fLineWidth\":2,\"fLimitFactorSize\":3,\"fOriginSize\":0.0467500016093254}],\"opt\":[\"\"]}},{\"_typename\":\"TStyle\",\"fUniqueID\":0,\"fBits\":0,\"fName\":\"Modern\",\"fTitle\":\"Modern Style\",\"fLineColor\":1,\"fLineStyle\":1,\"fLineWidth\":1,\"fFillColor\":19,\"fFillStyle\":1001,\"fMarkerColor\":1,\"fMarkerStyle\":1,\"fMarkerSize\":1,\"fTextAngle\":0,\"fTextSize\":0.05,\"fTextAlign\":11,\"fTextColor\":1,\"fTextFont\":62,\"fXaxis\":{\"_typename\":\"TAttAxis\",\"fNdivisions\":510,\"fAxisColor\":1,\"fLabelColor\":1,\"fLabelFont\":42,\"fLabelOffset\":0.005,\"fLabelSize\":0.035,\"fTickLength\":0.03,\"fTitleOffset\":1,\"fTitleSize\":0.035,\"fTitleColor\":1,\"fTitleFont\":42},\"fYaxis\":{\"_typename\":\"TAttAxis\",\"fNdivisions\":510,\"fAxisColor\":1,\"fLabelColor\":1,\"fLabelFont\":42,\"fLabelOffset\":0.005,\"fLabelSize\":0.035,\"fTickLength\":0.03,\"fTitleOffset\":0,\"fTitleSize\":0.035,\"fTitleColor\":1,\"fTitleFont\":42},\"fZaxis\":{\"_typename\":\"TAttAxis\",\"fNdivisions\":510,\"fAxisColor\":1,\"fLabelColor\":1,\"fLabelFont\":42,\"fLabelOffset\":0.005,\"fLabelSize\":0.035,\"fTickLength\":0.03,\"fTitleOffset\":1,\"fTitleSize\":0.035,\"fTitleColor\":1,\"fTitleFont\":42},\"fBarWidth\":1,\"fBarOffset\":0,\"fColorModelPS\":0,\"fDrawBorder\":0,\"fOptLogx\":0,\"fOptLogy\":0,\"fOptLogz\":0,\"fOptDate\":0,\"fOptStat\":0,\"fOptTitle\":1,\"fOptFile\":0,\"fOptFit\":0,\"fShowEventStatus\":0,\"fShowEditor\":0,\"fShowToolBar\":0,\"fNumberContours\":20,\"fAttDate\":{\"_typename\":\"TAttText\",\"fTextAngle\":0,\"fTextSize\":0.025,\"fTextAlign\":11,\"fTextColor\":1,\"fTextFont\":62},\"fDateX\":0.01,\"fDateY\":0.01,\"fEndErrorSize\":2,\"fErrorX\":0.5,\"fFuncColor\":2,\"fFuncStyle\":1,\"fFuncWidth\":2,\"fGridColor\":0,\"fGridStyle\":3,\"fGridWidth\":1,\"fLegendBorderSize\":1,\"fLegendFillColor\":0,\"fLegendFont\":42,\"fLegendTextSize\":0,\"fHatchesLineWidth\":1,\"fHatchesSpacing\":1,\"fFrameFillColor\":0,\"fFrameLineColor\":1,\"fFrameFillStyle\":1001,\"fFrameLineStyle\":1,\"fFrameLineWidth\":1,\"fFrameBorderSize\":1,\"fFrameBorderMode\":0,\"fHistFillColor\":0,\"fHistLineColor\":602,\"fHistFillStyle\":1001,\"fHistLineStyle\":1,\"fHistLineWidth\":1,\"fHistMinimumZero\":false,\"fHistTopMargin\":0.05,\"fCanvasPreferGL\":false,\"fCanvasColor\":0,\"fCanvasBorderSize\":2,\"fCanvasBorderMode\":0,\"fCanvasDefH\":500,\"fCanvasDefW\":700,\"fCanvasDefX\":10,\"fCanvasDefY\":10,\"fPadColor\":0,\"fPadBorderSize\":2,\"fPadBorderMode\":0,\"fPadBottomMargin\":0.1,\"fPadTopMargin\":0.1,\"fPadLeftMargin\":0.1,\"fPadRightMargin\":0.1,\"fPadGridX\":false,\"fPadGridY\":false,\"fPadTickX\":0,\"fPadTickY\":0,\"fPaperSizeX\":20,\"fPaperSizeY\":26,\"fScreenFactor\":1,\"fStatColor\":0,\"fStatTextColor\":1,\"fStatBorderSize\":1,\"fStatFont\":42,\"fStatFontSize\":0,\"fStatStyle\":1001,\"fStatFormat\":\"6.4g\",\"fStatX\":0.98,\"fStatY\":0.935,\"fStatW\":0.2,\"fStatH\":0.16,\"fStripDecimals\":true,\"fTitleAlign\":23,\"fTitleColor\":0,\"fTitleTextColor\":1,\"fTitleBorderSize\":0,\"fTitleFont\":42,\"fTitleFontSize\":0.05,\"fTitleStyle\":0,\"fTitleX\":0.5,\"fTitleY\":0.995,\"fTitleW\":0,\"fTitleH\":0,\"fLegoInnerR\":0.5,\"fLineStyles\":[\"\",\"  \",\" 12 12\",\" 4 8\",\" 12 16 4 16\",\" 20 12 4 12\",\" 20 12 4 12 4 12 4 12\",\" 20 20\",\" 20 12 4 12 4 12\",\" 80 20\",\" 80 40 4 40\",\"  \",\"  \",\"  \",\"  \",\"  \",\"  \",\"  \",\"  \",\"  \",\"  \",\"  \",\"  \",\"  \",\"  \",\"  \",\"  \",\"  \",\"  \",\"  \"],\"fHeaderPS\":\"\",\"fTitlePS\":\"\",\"fFitFormat\":\"5.4g\",\"fPaintTextFormat\":\"g\",\"fLineScalePS\":3,\"fJoinLinePS\":0,\"fCapLinePS\":0,\"fTimeOffset\":788918400,\"fImageScaling\":1}],\"opt\":[\"\",\"colz\",\"blNDC\",\"\"]},\"fExecs\":null,\"fName\":\"c1\",\"fTitle\":\"c1\",\"fNumPaletteColor\":0,\"fNextPaletteColor\":0,\"fDISPLAY\":\"$DISPLAY\",\"fDoubleBuffer\":0,\"fRetained\":true,\"fXsizeUser\":0,\"fYsizeUser\":0,\"fXsizeReal\":20,\"fYsizeReal\":14.28571,\"fWindowTopX\":0,\"fWindowTopY\":0,\"fWindowWidth\":0,\"fWindowHeight\":0,\"fCw\":696,\"fCh\":472,\"fCatt\":{\"_typename\":\"TAttCanvas\",\"fXBetween\":2,\"fYBetween\":2,\"fTitleFromTop\":1.2,\"fXdate\":0.2,\"fYdate\":0.3,\"fAdate\":1},\"kMoveOpaque\":true,\"kResizeOpaque\":true,\"fHighLightColor\":2,\"fBatch\":true,\"kShowEventStatus\":false,\"kAutoExec\":true,\"kMenuBar\":true});\n",
       "   Core.settings.HandleKeys = false;\n",
       "   Core.draw(\"root_plot_1718731878938\", obj, \"\");\n",
       "}\n",
       "\n",
       "function script_load_root_plot_1718731878938(src, on_error) {\n",
       "    let script = document.createElement('script');\n",
       "    script.src = src;\n",
       "    script.onload = function() { display_root_plot_1718731878938(JSROOT); };\n",
       "    script.onerror = function() { script.remove(); on_error(); };\n",
       "    document.head.appendChild(script);\n",
       "}\n",
       "\n",
       "if (typeof requirejs !== 'undefined') {\n",
       "\n",
       "    // We are in jupyter notebooks, use require.js which should be configured already\n",
       "    requirejs.config({\n",
       "       paths: { 'JSRootCore' : [ 'build/jsroot', 'https://root.cern/js/7.2.1/build/jsroot', 'https://jsroot.gsi.de/7.2.1/build/jsroot' ] }\n",
       "    })(['JSRootCore'],  function(Core) {\n",
       "       display_root_plot_1718731878938(Core);\n",
       "    });\n",
       "\n",
       "} else if (typeof JSROOT !== 'undefined') {\n",
       "\n",
       "   // JSROOT already loaded, just use it\n",
       "   display_root_plot_1718731878938(JSROOT);\n",
       "\n",
       "} else {\n",
       "\n",
       "    // We are in jupyterlab without require.js, directly loading jsroot\n",
       "    // Jupyterlab might be installed in a different base_url so we need to know it.\n",
       "    try {\n",
       "        var base_url = JSON.parse(document.getElementById('jupyter-config-data').innerHTML).baseUrl;\n",
       "    } catch(_) {\n",
       "        var base_url = '/';\n",
       "    }\n",
       "\n",
       "    // Try loading a local version of requirejs and fallback to cdn if not possible.\n",
       "    script_load_root_plot_1718731878938(base_url + 'static/build/jsroot.js', function(){\n",
       "        console.error('Fail to load JSROOT locally, please check your jupyter_notebook_config.py file');\n",
       "        script_load_root_plot_1718731878938('https://root.cern/js/7.2.1/build/jsroot.js', function(){\n",
       "            document.getElementById(\"root_plot_1718731878938\").innerHTML = \"Failed to load JSROOT\";\n",
       "        });\n",
       "    });\n",
       "}\n",
       "\n",
       "</script>\n"
      ],
      "text/plain": [
       "<IPython.core.display.HTML object>"
      ]
     },
     "metadata": {},
     "output_type": "display_data"
    }
   ],
   "source": [
    "error_M = u.GetEmatrixTotal('Covariance')\n",
    "cE = ROOT.TCanvas()\n",
    "error_M.Draw('colz')\n",
    "error_M.GetXaxis().SetRangeUser(0,200)\n",
    "error_M.GetYaxis().SetRangeUser(0,200)\n",
    "cE.SetLogz()\n",
    "cE.Draw()\n"
   ]
  },
  {
   "cell_type": "code",
   "execution_count": 80,
   "id": "87c012ba-5a88-4060-8f2d-30253053dcf8",
   "metadata": {
    "tags": []
   },
   "outputs": [
    {
     "data": {
      "text/plain": [
       "101.38923824663347"
      ]
     },
     "execution_count": 80,
     "metadata": {},
     "output_type": "execute_result"
    }
   ],
   "source": [
    "o_0.GetBinError(2)"
   ]
  },
  {
   "cell_type": "code",
   "execution_count": 81,
   "id": "59db6c53-a91d-41b0-bbfe-bfcc691a3535",
   "metadata": {
    "tags": []
   },
   "outputs": [
    {
     "data": {
      "text/plain": [
       "37457.0"
      ]
     },
     "execution_count": 81,
     "metadata": {},
     "output_type": "execute_result"
    }
   ],
   "source": [
    "o_0.Integral()"
   ]
  },
  {
   "cell_type": "code",
   "execution_count": 82,
   "id": "dfa914a1-e201-4221-9d27-06fc274109ff",
   "metadata": {
    "tags": []
   },
   "outputs": [
    {
     "data": {
      "text/plain": [
       "(0.0, 1000.0)"
      ]
     },
     "execution_count": 82,
     "metadata": {},
     "output_type": "execute_result"
    },
    {
     "data": {
      "image/png": "[encoded data removed]",
      "text/plain": [
       "<Figure size 640x480 with 1 Axes>"
      ]
     },
     "metadata": {},
     "output_type": "display_data"
    }
   ],
   "source": [
    "resp_hist.project('ptreco').plot()\n",
    "plt.xlim(0,1000)"
   ]
  },
  {
   "cell_type": "code",
   "execution_count": null,
   "id": "9e2481f4-cb61-4781-ad32-17d94becb9cd",
   "metadata": {},
   "outputs": [],
   "source": []
  },
  {
   "cell_type": "code",
   "execution_count": null,
   "id": "2f46be34-f407-4732-a1cf-3f6fff24c08d",
   "metadata": {},
   "outputs": [],
   "source": []
  },
  {
   "cell_type": "code",
   "execution_count": null,
   "id": "269d61b6-ee6e-4b5b-8765-be5879f4a0fb",
   "metadata": {},
   "outputs": [],
   "source": []
  }
 ],
 "metadata": {
  "kernelspec": {
   "display_name": "Python 3 (ipykernel)",
   "language": "python",
   "name": "python3"
  },
  "language_info": {
   "codemirror_mode": {
    "name": "ipython",
    "version": 3
   },
   "file_extension": ".py",
   "mimetype": "text/x-python",
   "name": "python",
   "nbconvert_exporter": "python",
   "pygments_lexer": "ipython3",
   "version": "3.9.16"
  }
 },
 "nbformat": 4,
 "nbformat_minor": 5
}
